{
  "cells": [
    {
      "cell_type": "code",
      "source": [
        "from google.colab import drive\n",
        "drive.mount('/content/drive')"
      ],
      "metadata": {
        "id": "-3zrROShHBeM",
        "colab": {
          "base_uri": "https://localhost:8080/"
        },
        "outputId": "2c9c7280-4de1-4c98-893c-233003fa4115"
      },
      "execution_count": null,
      "outputs": [
        {
          "output_type": "stream",
          "name": "stdout",
          "text": [
            "Drive already mounted at /content/drive; to attempt to forcibly remount, call drive.mount(\"/content/drive\", force_remount=True).\n"
          ]
        }
      ]
    },
    {
      "cell_type": "code",
      "execution_count": null,
      "metadata": {
        "id": "jFwItzrQF7y3"
      },
      "outputs": [],
      "source": [
        "from sklearn import preprocessing \n",
        "from sklearn.ensemble import RandomForestClassifier \n",
        "from sklearn.ensemble import RandomForestRegressor\n",
        "\n",
        "import warnings\n",
        "warnings.filterwarnings('ignore')\n",
        "import pandas as pd\n",
        "import numpy as np\n",
        "import matplotlib.pyplot as plt\n",
        "import seaborn as sns\n",
        "\n",
        "%matplotlib inline\n",
        "pd.options.mode.chained_assignment = None"
      ]
    },
    {
      "cell_type": "code",
      "execution_count": null,
      "metadata": {
        "id": "kxoqPZgJF7y7"
      },
      "outputs": [],
      "source": [
        "df = pd.read_csv('/content/drive/MyDrive/Colab csv/Titanic.csv')"
      ]
    },
    {
      "cell_type": "markdown",
      "source": [
        "查看資料樣態與資料分布狀況，本資料集為數值與類別混合型態"
      ],
      "metadata": {
        "id": "Bfj3-Vpk-UiU"
      }
    },
    {
      "cell_type": "code",
      "execution_count": null,
      "metadata": {
        "scrolled": false,
        "id": "iXb_-by0F7y9",
        "outputId": "04a9a8ed-c03f-420c-8451-dde985eda12c",
        "colab": {
          "base_uri": "https://localhost:8080/",
          "height": 444
        }
      },
      "outputs": [
        {
          "output_type": "execute_result",
          "data": {
            "text/plain": [
              "   PassengerId  Survived  Pclass  \\\n",
              "0            1         0       3   \n",
              "1            2         1       1   \n",
              "2            3         1       3   \n",
              "3            4         1       1   \n",
              "4            5         0       3   \n",
              "5            6         0       3   \n",
              "6            7         0       1   \n",
              "7            8         0       3   \n",
              "8            9         1       3   \n",
              "9           10         1       2   \n",
              "\n",
              "                                                Name     Sex   Age  SibSp  \\\n",
              "0                            Braund, Mr. Owen Harris    male  22.0      1   \n",
              "1  Cumings, Mrs. John Bradley (Florence Briggs Th...  female  38.0      1   \n",
              "2                             Heikkinen, Miss. Laina  female  26.0      0   \n",
              "3       Futrelle, Mrs. Jacques Heath (Lily May Peel)  female  35.0      1   \n",
              "4                           Allen, Mr. William Henry    male  35.0      0   \n",
              "5                                   Moran, Mr. James    male   NaN      0   \n",
              "6                            McCarthy, Mr. Timothy J    male  54.0      0   \n",
              "7                     Palsson, Master. Gosta Leonard    male   2.0      3   \n",
              "8  Johnson, Mrs. Oscar W (Elisabeth Vilhelmina Berg)  female  27.0      0   \n",
              "9                Nasser, Mrs. Nicholas (Adele Achem)  female  14.0      1   \n",
              "\n",
              "   Parch            Ticket     Fare Cabin Embarked  \n",
              "0      0         A/5 21171   7.2500   NaN        S  \n",
              "1      0          PC 17599  71.2833   C85        C  \n",
              "2      0  STON/O2. 3101282   7.9250   NaN        S  \n",
              "3      0            113803  53.1000  C123        S  \n",
              "4      0            373450   8.0500   NaN        S  \n",
              "5      0            330877   8.4583   NaN        Q  \n",
              "6      0             17463  51.8625   E46        S  \n",
              "7      1            349909  21.0750   NaN        S  \n",
              "8      2            347742  11.1333   NaN        S  \n",
              "9      0            237736  30.0708   NaN        C  "
            ],
            "text/html": [
              "\n",
              "  <div id=\"df-ee8e58b5-7582-4c05-ae31-ac53c07e7fa1\">\n",
              "    <div class=\"colab-df-container\">\n",
              "      <div>\n",
              "<style scoped>\n",
              "    .dataframe tbody tr th:only-of-type {\n",
              "        vertical-align: middle;\n",
              "    }\n",
              "\n",
              "    .dataframe tbody tr th {\n",
              "        vertical-align: top;\n",
              "    }\n",
              "\n",
              "    .dataframe thead th {\n",
              "        text-align: right;\n",
              "    }\n",
              "</style>\n",
              "<table border=\"1\" class=\"dataframe\">\n",
              "  <thead>\n",
              "    <tr style=\"text-align: right;\">\n",
              "      <th></th>\n",
              "      <th>PassengerId</th>\n",
              "      <th>Survived</th>\n",
              "      <th>Pclass</th>\n",
              "      <th>Name</th>\n",
              "      <th>Sex</th>\n",
              "      <th>Age</th>\n",
              "      <th>SibSp</th>\n",
              "      <th>Parch</th>\n",
              "      <th>Ticket</th>\n",
              "      <th>Fare</th>\n",
              "      <th>Cabin</th>\n",
              "      <th>Embarked</th>\n",
              "    </tr>\n",
              "  </thead>\n",
              "  <tbody>\n",
              "    <tr>\n",
              "      <th>0</th>\n",
              "      <td>1</td>\n",
              "      <td>0</td>\n",
              "      <td>3</td>\n",
              "      <td>Braund, Mr. Owen Harris</td>\n",
              "      <td>male</td>\n",
              "      <td>22.0</td>\n",
              "      <td>1</td>\n",
              "      <td>0</td>\n",
              "      <td>A/5 21171</td>\n",
              "      <td>7.2500</td>\n",
              "      <td>NaN</td>\n",
              "      <td>S</td>\n",
              "    </tr>\n",
              "    <tr>\n",
              "      <th>1</th>\n",
              "      <td>2</td>\n",
              "      <td>1</td>\n",
              "      <td>1</td>\n",
              "      <td>Cumings, Mrs. John Bradley (Florence Briggs Th...</td>\n",
              "      <td>female</td>\n",
              "      <td>38.0</td>\n",
              "      <td>1</td>\n",
              "      <td>0</td>\n",
              "      <td>PC 17599</td>\n",
              "      <td>71.2833</td>\n",
              "      <td>C85</td>\n",
              "      <td>C</td>\n",
              "    </tr>\n",
              "    <tr>\n",
              "      <th>2</th>\n",
              "      <td>3</td>\n",
              "      <td>1</td>\n",
              "      <td>3</td>\n",
              "      <td>Heikkinen, Miss. Laina</td>\n",
              "      <td>female</td>\n",
              "      <td>26.0</td>\n",
              "      <td>0</td>\n",
              "      <td>0</td>\n",
              "      <td>STON/O2. 3101282</td>\n",
              "      <td>7.9250</td>\n",
              "      <td>NaN</td>\n",
              "      <td>S</td>\n",
              "    </tr>\n",
              "    <tr>\n",
              "      <th>3</th>\n",
              "      <td>4</td>\n",
              "      <td>1</td>\n",
              "      <td>1</td>\n",
              "      <td>Futrelle, Mrs. Jacques Heath (Lily May Peel)</td>\n",
              "      <td>female</td>\n",
              "      <td>35.0</td>\n",
              "      <td>1</td>\n",
              "      <td>0</td>\n",
              "      <td>113803</td>\n",
              "      <td>53.1000</td>\n",
              "      <td>C123</td>\n",
              "      <td>S</td>\n",
              "    </tr>\n",
              "    <tr>\n",
              "      <th>4</th>\n",
              "      <td>5</td>\n",
              "      <td>0</td>\n",
              "      <td>3</td>\n",
              "      <td>Allen, Mr. William Henry</td>\n",
              "      <td>male</td>\n",
              "      <td>35.0</td>\n",
              "      <td>0</td>\n",
              "      <td>0</td>\n",
              "      <td>373450</td>\n",
              "      <td>8.0500</td>\n",
              "      <td>NaN</td>\n",
              "      <td>S</td>\n",
              "    </tr>\n",
              "    <tr>\n",
              "      <th>5</th>\n",
              "      <td>6</td>\n",
              "      <td>0</td>\n",
              "      <td>3</td>\n",
              "      <td>Moran, Mr. James</td>\n",
              "      <td>male</td>\n",
              "      <td>NaN</td>\n",
              "      <td>0</td>\n",
              "      <td>0</td>\n",
              "      <td>330877</td>\n",
              "      <td>8.4583</td>\n",
              "      <td>NaN</td>\n",
              "      <td>Q</td>\n",
              "    </tr>\n",
              "    <tr>\n",
              "      <th>6</th>\n",
              "      <td>7</td>\n",
              "      <td>0</td>\n",
              "      <td>1</td>\n",
              "      <td>McCarthy, Mr. Timothy J</td>\n",
              "      <td>male</td>\n",
              "      <td>54.0</td>\n",
              "      <td>0</td>\n",
              "      <td>0</td>\n",
              "      <td>17463</td>\n",
              "      <td>51.8625</td>\n",
              "      <td>E46</td>\n",
              "      <td>S</td>\n",
              "    </tr>\n",
              "    <tr>\n",
              "      <th>7</th>\n",
              "      <td>8</td>\n",
              "      <td>0</td>\n",
              "      <td>3</td>\n",
              "      <td>Palsson, Master. Gosta Leonard</td>\n",
              "      <td>male</td>\n",
              "      <td>2.0</td>\n",
              "      <td>3</td>\n",
              "      <td>1</td>\n",
              "      <td>349909</td>\n",
              "      <td>21.0750</td>\n",
              "      <td>NaN</td>\n",
              "      <td>S</td>\n",
              "    </tr>\n",
              "    <tr>\n",
              "      <th>8</th>\n",
              "      <td>9</td>\n",
              "      <td>1</td>\n",
              "      <td>3</td>\n",
              "      <td>Johnson, Mrs. Oscar W (Elisabeth Vilhelmina Berg)</td>\n",
              "      <td>female</td>\n",
              "      <td>27.0</td>\n",
              "      <td>0</td>\n",
              "      <td>2</td>\n",
              "      <td>347742</td>\n",
              "      <td>11.1333</td>\n",
              "      <td>NaN</td>\n",
              "      <td>S</td>\n",
              "    </tr>\n",
              "    <tr>\n",
              "      <th>9</th>\n",
              "      <td>10</td>\n",
              "      <td>1</td>\n",
              "      <td>2</td>\n",
              "      <td>Nasser, Mrs. Nicholas (Adele Achem)</td>\n",
              "      <td>female</td>\n",
              "      <td>14.0</td>\n",
              "      <td>1</td>\n",
              "      <td>0</td>\n",
              "      <td>237736</td>\n",
              "      <td>30.0708</td>\n",
              "      <td>NaN</td>\n",
              "      <td>C</td>\n",
              "    </tr>\n",
              "  </tbody>\n",
              "</table>\n",
              "</div>\n",
              "      <button class=\"colab-df-convert\" onclick=\"convertToInteractive('df-ee8e58b5-7582-4c05-ae31-ac53c07e7fa1')\"\n",
              "              title=\"Convert this dataframe to an interactive table.\"\n",
              "              style=\"display:none;\">\n",
              "        \n",
              "  <svg xmlns=\"http://www.w3.org/2000/svg\" height=\"24px\"viewBox=\"0 0 24 24\"\n",
              "       width=\"24px\">\n",
              "    <path d=\"M0 0h24v24H0V0z\" fill=\"none\"/>\n",
              "    <path d=\"M18.56 5.44l.94 2.06.94-2.06 2.06-.94-2.06-.94-.94-2.06-.94 2.06-2.06.94zm-11 1L8.5 8.5l.94-2.06 2.06-.94-2.06-.94L8.5 2.5l-.94 2.06-2.06.94zm10 10l.94 2.06.94-2.06 2.06-.94-2.06-.94-.94-2.06-.94 2.06-2.06.94z\"/><path d=\"M17.41 7.96l-1.37-1.37c-.4-.4-.92-.59-1.43-.59-.52 0-1.04.2-1.43.59L10.3 9.45l-7.72 7.72c-.78.78-.78 2.05 0 2.83L4 21.41c.39.39.9.59 1.41.59.51 0 1.02-.2 1.41-.59l7.78-7.78 2.81-2.81c.8-.78.8-2.07 0-2.86zM5.41 20L4 18.59l7.72-7.72 1.47 1.35L5.41 20z\"/>\n",
              "  </svg>\n",
              "      </button>\n",
              "      \n",
              "  <style>\n",
              "    .colab-df-container {\n",
              "      display:flex;\n",
              "      flex-wrap:wrap;\n",
              "      gap: 12px;\n",
              "    }\n",
              "\n",
              "    .colab-df-convert {\n",
              "      background-color: #E8F0FE;\n",
              "      border: none;\n",
              "      border-radius: 50%;\n",
              "      cursor: pointer;\n",
              "      display: none;\n",
              "      fill: #1967D2;\n",
              "      height: 32px;\n",
              "      padding: 0 0 0 0;\n",
              "      width: 32px;\n",
              "    }\n",
              "\n",
              "    .colab-df-convert:hover {\n",
              "      background-color: #E2EBFA;\n",
              "      box-shadow: 0px 1px 2px rgba(60, 64, 67, 0.3), 0px 1px 3px 1px rgba(60, 64, 67, 0.15);\n",
              "      fill: #174EA6;\n",
              "    }\n",
              "\n",
              "    [theme=dark] .colab-df-convert {\n",
              "      background-color: #3B4455;\n",
              "      fill: #D2E3FC;\n",
              "    }\n",
              "\n",
              "    [theme=dark] .colab-df-convert:hover {\n",
              "      background-color: #434B5C;\n",
              "      box-shadow: 0px 1px 3px 1px rgba(0, 0, 0, 0.15);\n",
              "      filter: drop-shadow(0px 1px 2px rgba(0, 0, 0, 0.3));\n",
              "      fill: #FFFFFF;\n",
              "    }\n",
              "  </style>\n",
              "\n",
              "      <script>\n",
              "        const buttonEl =\n",
              "          document.querySelector('#df-ee8e58b5-7582-4c05-ae31-ac53c07e7fa1 button.colab-df-convert');\n",
              "        buttonEl.style.display =\n",
              "          google.colab.kernel.accessAllowed ? 'block' : 'none';\n",
              "\n",
              "        async function convertToInteractive(key) {\n",
              "          const element = document.querySelector('#df-ee8e58b5-7582-4c05-ae31-ac53c07e7fa1');\n",
              "          const dataTable =\n",
              "            await google.colab.kernel.invokeFunction('convertToInteractive',\n",
              "                                                     [key], {});\n",
              "          if (!dataTable) return;\n",
              "\n",
              "          const docLinkHtml = 'Like what you see? Visit the ' +\n",
              "            '<a target=\"_blank\" href=https://colab.research.google.com/notebooks/data_table.ipynb>data table notebook</a>'\n",
              "            + ' to learn more about interactive tables.';\n",
              "          element.innerHTML = '';\n",
              "          dataTable['output_type'] = 'display_data';\n",
              "          await google.colab.output.renderOutput(dataTable, element);\n",
              "          const docLink = document.createElement('div');\n",
              "          docLink.innerHTML = docLinkHtml;\n",
              "          element.appendChild(docLink);\n",
              "        }\n",
              "      </script>\n",
              "    </div>\n",
              "  </div>\n",
              "  "
            ]
          },
          "metadata": {},
          "execution_count": 4
        }
      ],
      "source": [
        "df.head(10)"
      ]
    },
    {
      "cell_type": "code",
      "execution_count": null,
      "metadata": {
        "scrolled": false,
        "id": "OvaLpNoLF7y-",
        "outputId": "6232028a-c2fb-4d8b-8789-3b8628a18edb",
        "colab": {
          "base_uri": "https://localhost:8080/",
          "height": 367
        }
      },
      "outputs": [
        {
          "output_type": "execute_result",
          "data": {
            "text/plain": [
              "       PassengerId    Survived      Pclass         Age       SibSp  \\\n",
              "count   891.000000  891.000000  891.000000  714.000000  891.000000   \n",
              "mean    446.000000    0.383838    2.308642   29.699118    0.523008   \n",
              "std     257.353842    0.486592    0.836071   14.526497    1.102743   \n",
              "min       1.000000    0.000000    1.000000    0.420000    0.000000   \n",
              "25%     223.500000    0.000000    2.000000   20.125000    0.000000   \n",
              "50%     446.000000    0.000000    3.000000   28.000000    0.000000   \n",
              "75%     668.500000    1.000000    3.000000   38.000000    1.000000   \n",
              "max     891.000000    1.000000    3.000000   80.000000    8.000000   \n",
              "\n",
              "            Parch        Fare  \n",
              "count  891.000000  891.000000  \n",
              "mean     0.381594   32.204208  \n",
              "std      0.806057   49.693429  \n",
              "min      0.000000    0.000000  \n",
              "25%      0.000000    7.910400  \n",
              "50%      0.000000   14.454200  \n",
              "75%      0.000000   31.000000  \n",
              "max      6.000000  512.329200  "
            ],
            "text/html": [
              "\n",
              "  <div id=\"df-dade688c-d21c-40be-886c-a804ecaee30a\">\n",
              "    <div class=\"colab-df-container\">\n",
              "      <div>\n",
              "<style scoped>\n",
              "    .dataframe tbody tr th:only-of-type {\n",
              "        vertical-align: middle;\n",
              "    }\n",
              "\n",
              "    .dataframe tbody tr th {\n",
              "        vertical-align: top;\n",
              "    }\n",
              "\n",
              "    .dataframe thead th {\n",
              "        text-align: right;\n",
              "    }\n",
              "</style>\n",
              "<table border=\"1\" class=\"dataframe\">\n",
              "  <thead>\n",
              "    <tr style=\"text-align: right;\">\n",
              "      <th></th>\n",
              "      <th>PassengerId</th>\n",
              "      <th>Survived</th>\n",
              "      <th>Pclass</th>\n",
              "      <th>Age</th>\n",
              "      <th>SibSp</th>\n",
              "      <th>Parch</th>\n",
              "      <th>Fare</th>\n",
              "    </tr>\n",
              "  </thead>\n",
              "  <tbody>\n",
              "    <tr>\n",
              "      <th>count</th>\n",
              "      <td>891.000000</td>\n",
              "      <td>891.000000</td>\n",
              "      <td>891.000000</td>\n",
              "      <td>714.000000</td>\n",
              "      <td>891.000000</td>\n",
              "      <td>891.000000</td>\n",
              "      <td>891.000000</td>\n",
              "    </tr>\n",
              "    <tr>\n",
              "      <th>mean</th>\n",
              "      <td>446.000000</td>\n",
              "      <td>0.383838</td>\n",
              "      <td>2.308642</td>\n",
              "      <td>29.699118</td>\n",
              "      <td>0.523008</td>\n",
              "      <td>0.381594</td>\n",
              "      <td>32.204208</td>\n",
              "    </tr>\n",
              "    <tr>\n",
              "      <th>std</th>\n",
              "      <td>257.353842</td>\n",
              "      <td>0.486592</td>\n",
              "      <td>0.836071</td>\n",
              "      <td>14.526497</td>\n",
              "      <td>1.102743</td>\n",
              "      <td>0.806057</td>\n",
              "      <td>49.693429</td>\n",
              "    </tr>\n",
              "    <tr>\n",
              "      <th>min</th>\n",
              "      <td>1.000000</td>\n",
              "      <td>0.000000</td>\n",
              "      <td>1.000000</td>\n",
              "      <td>0.420000</td>\n",
              "      <td>0.000000</td>\n",
              "      <td>0.000000</td>\n",
              "      <td>0.000000</td>\n",
              "    </tr>\n",
              "    <tr>\n",
              "      <th>25%</th>\n",
              "      <td>223.500000</td>\n",
              "      <td>0.000000</td>\n",
              "      <td>2.000000</td>\n",
              "      <td>20.125000</td>\n",
              "      <td>0.000000</td>\n",
              "      <td>0.000000</td>\n",
              "      <td>7.910400</td>\n",
              "    </tr>\n",
              "    <tr>\n",
              "      <th>50%</th>\n",
              "      <td>446.000000</td>\n",
              "      <td>0.000000</td>\n",
              "      <td>3.000000</td>\n",
              "      <td>28.000000</td>\n",
              "      <td>0.000000</td>\n",
              "      <td>0.000000</td>\n",
              "      <td>14.454200</td>\n",
              "    </tr>\n",
              "    <tr>\n",
              "      <th>75%</th>\n",
              "      <td>668.500000</td>\n",
              "      <td>1.000000</td>\n",
              "      <td>3.000000</td>\n",
              "      <td>38.000000</td>\n",
              "      <td>1.000000</td>\n",
              "      <td>0.000000</td>\n",
              "      <td>31.000000</td>\n",
              "    </tr>\n",
              "    <tr>\n",
              "      <th>max</th>\n",
              "      <td>891.000000</td>\n",
              "      <td>1.000000</td>\n",
              "      <td>3.000000</td>\n",
              "      <td>80.000000</td>\n",
              "      <td>8.000000</td>\n",
              "      <td>6.000000</td>\n",
              "      <td>512.329200</td>\n",
              "    </tr>\n",
              "  </tbody>\n",
              "</table>\n",
              "</div>\n",
              "      <button class=\"colab-df-convert\" onclick=\"convertToInteractive('df-dade688c-d21c-40be-886c-a804ecaee30a')\"\n",
              "              title=\"Convert this dataframe to an interactive table.\"\n",
              "              style=\"display:none;\">\n",
              "        \n",
              "  <svg xmlns=\"http://www.w3.org/2000/svg\" height=\"24px\"viewBox=\"0 0 24 24\"\n",
              "       width=\"24px\">\n",
              "    <path d=\"M0 0h24v24H0V0z\" fill=\"none\"/>\n",
              "    <path d=\"M18.56 5.44l.94 2.06.94-2.06 2.06-.94-2.06-.94-.94-2.06-.94 2.06-2.06.94zm-11 1L8.5 8.5l.94-2.06 2.06-.94-2.06-.94L8.5 2.5l-.94 2.06-2.06.94zm10 10l.94 2.06.94-2.06 2.06-.94-2.06-.94-.94-2.06-.94 2.06-2.06.94z\"/><path d=\"M17.41 7.96l-1.37-1.37c-.4-.4-.92-.59-1.43-.59-.52 0-1.04.2-1.43.59L10.3 9.45l-7.72 7.72c-.78.78-.78 2.05 0 2.83L4 21.41c.39.39.9.59 1.41.59.51 0 1.02-.2 1.41-.59l7.78-7.78 2.81-2.81c.8-.78.8-2.07 0-2.86zM5.41 20L4 18.59l7.72-7.72 1.47 1.35L5.41 20z\"/>\n",
              "  </svg>\n",
              "      </button>\n",
              "      \n",
              "  <style>\n",
              "    .colab-df-container {\n",
              "      display:flex;\n",
              "      flex-wrap:wrap;\n",
              "      gap: 12px;\n",
              "    }\n",
              "\n",
              "    .colab-df-convert {\n",
              "      background-color: #E8F0FE;\n",
              "      border: none;\n",
              "      border-radius: 50%;\n",
              "      cursor: pointer;\n",
              "      display: none;\n",
              "      fill: #1967D2;\n",
              "      height: 32px;\n",
              "      padding: 0 0 0 0;\n",
              "      width: 32px;\n",
              "    }\n",
              "\n",
              "    .colab-df-convert:hover {\n",
              "      background-color: #E2EBFA;\n",
              "      box-shadow: 0px 1px 2px rgba(60, 64, 67, 0.3), 0px 1px 3px 1px rgba(60, 64, 67, 0.15);\n",
              "      fill: #174EA6;\n",
              "    }\n",
              "\n",
              "    [theme=dark] .colab-df-convert {\n",
              "      background-color: #3B4455;\n",
              "      fill: #D2E3FC;\n",
              "    }\n",
              "\n",
              "    [theme=dark] .colab-df-convert:hover {\n",
              "      background-color: #434B5C;\n",
              "      box-shadow: 0px 1px 3px 1px rgba(0, 0, 0, 0.15);\n",
              "      filter: drop-shadow(0px 1px 2px rgba(0, 0, 0, 0.3));\n",
              "      fill: #FFFFFF;\n",
              "    }\n",
              "  </style>\n",
              "\n",
              "      <script>\n",
              "        const buttonEl =\n",
              "          document.querySelector('#df-dade688c-d21c-40be-886c-a804ecaee30a button.colab-df-convert');\n",
              "        buttonEl.style.display =\n",
              "          google.colab.kernel.accessAllowed ? 'block' : 'none';\n",
              "\n",
              "        async function convertToInteractive(key) {\n",
              "          const element = document.querySelector('#df-dade688c-d21c-40be-886c-a804ecaee30a');\n",
              "          const dataTable =\n",
              "            await google.colab.kernel.invokeFunction('convertToInteractive',\n",
              "                                                     [key], {});\n",
              "          if (!dataTable) return;\n",
              "\n",
              "          const docLinkHtml = 'Like what you see? Visit the ' +\n",
              "            '<a target=\"_blank\" href=https://colab.research.google.com/notebooks/data_table.ipynb>data table notebook</a>'\n",
              "            + ' to learn more about interactive tables.';\n",
              "          element.innerHTML = '';\n",
              "          dataTable['output_type'] = 'display_data';\n",
              "          await google.colab.output.renderOutput(dataTable, element);\n",
              "          const docLink = document.createElement('div');\n",
              "          docLink.innerHTML = docLinkHtml;\n",
              "          element.appendChild(docLink);\n",
              "        }\n",
              "      </script>\n",
              "    </div>\n",
              "  </div>\n",
              "  "
            ]
          },
          "metadata": {},
          "execution_count": 5
        }
      ],
      "source": [
        "df.describe()"
      ]
    },
    {
      "cell_type": "code",
      "execution_count": null,
      "metadata": {
        "scrolled": true,
        "id": "zLHCTDYmF7zC",
        "outputId": "82385f8a-3f5d-43d7-fb17-0e724893d78c",
        "colab": {
          "base_uri": "https://localhost:8080/"
        }
      },
      "outputs": [
        {
          "output_type": "stream",
          "name": "stdout",
          "text": [
            "<class 'pandas.core.frame.DataFrame'>\n",
            "RangeIndex: 891 entries, 0 to 890\n",
            "Data columns (total 12 columns):\n",
            " #   Column       Non-Null Count  Dtype  \n",
            "---  ------       --------------  -----  \n",
            " 0   PassengerId  891 non-null    int64  \n",
            " 1   Survived     891 non-null    int64  \n",
            " 2   Pclass       891 non-null    int64  \n",
            " 3   Name         891 non-null    object \n",
            " 4   Sex          891 non-null    object \n",
            " 5   Age          714 non-null    float64\n",
            " 6   SibSp        891 non-null    int64  \n",
            " 7   Parch        891 non-null    int64  \n",
            " 8   Ticket       891 non-null    object \n",
            " 9   Fare         891 non-null    float64\n",
            " 10  Cabin        204 non-null    object \n",
            " 11  Embarked     889 non-null    object \n",
            "dtypes: float64(2), int64(5), object(5)\n",
            "memory usage: 83.7+ KB\n"
          ]
        }
      ],
      "source": [
        "df.info()"
      ]
    },
    {
      "cell_type": "markdown",
      "source": [
        "以視覺化方式確認是否有空值，白線代表有空值需處理<br>\n",
        "從圖中可以看到age這個欄位缺失很多"
      ],
      "metadata": {
        "id": "IPHWaEqAvGu7"
      }
    },
    {
      "cell_type": "code",
      "execution_count": null,
      "metadata": {
        "scrolled": true,
        "id": "qAi61X1UF7zH",
        "outputId": "1007a5de-54bb-4af4-819e-4b51249358b3",
        "colab": {
          "base_uri": "https://localhost:8080/",
          "height": 440
        }
      },
      "outputs": [
        {
          "output_type": "display_data",
          "data": {
            "text/plain": [
              "<Figure size 1440x432 with 1 Axes>"
            ],
            "image/png": "[encoded data removed]"
          },
          "metadata": {
            "needs_background": "light"
          }
        }
      ],
      "source": [
        "fig, ax = plt.subplots(figsize=(20, 6))\n",
        "\n",
        "ax.set_title('Data Missing Values')\n",
        "plt.xticks(rotation=90)\n",
        "\n",
        "sns.heatmap(df.iloc[:,:-2].isnull(),\n",
        "            yticklabels=False,\n",
        "            cbar=False,\n",
        "            cmap='magma',\n",
        "            ax=ax)\n",
        "\n",
        "plt.show()"
      ]
    },
    {
      "cell_type": "markdown",
      "source": [
        "預測目標Survived，存活與否之數量比約為4:6，為避免機器盲猜死亡（Survived = 0）而導致模型預測準確較高之假象，故待前處理完成後會以SMOTE做類別平衡處理"
      ],
      "metadata": {
        "id": "z_R2ohfx-jAS"
      }
    },
    {
      "cell_type": "code",
      "execution_count": null,
      "metadata": {
        "id": "Cp8W1dhEF7zK",
        "outputId": "85ec2923-7f6b-4607-f867-cf115c61a57f",
        "colab": {
          "base_uri": "https://localhost:8080/"
        }
      },
      "outputs": [
        {
          "output_type": "execute_result",
          "data": {
            "text/plain": [
              "0    549\n",
              "1    342\n",
              "Name: Survived, dtype: int64"
            ]
          },
          "metadata": {},
          "execution_count": 8
        }
      ],
      "source": [
        "df['Survived'].value_counts()"
      ]
    },
    {
      "cell_type": "markdown",
      "source": [
        "以視覺化方式觀察各個欄位與生存與否之關係"
      ],
      "metadata": {
        "id": "0kOc85FDCb9R"
      }
    },
    {
      "cell_type": "code",
      "execution_count": null,
      "metadata": {
        "id": "oSO4VgO_F7zM",
        "outputId": "bcd05081-b94b-464c-d416-51d9a01aa6e9",
        "colab": {
          "base_uri": "https://localhost:8080/",
          "height": 300
        }
      },
      "outputs": [
        {
          "output_type": "execute_result",
          "data": {
            "text/plain": [
              "<matplotlib.axes._subplots.AxesSubplot at 0x7fbb67a46910>"
            ]
          },
          "metadata": {},
          "execution_count": 9
        },
        {
          "output_type": "display_data",
          "data": {
            "text/plain": [
              "<Figure size 432x288 with 1 Axes>"
            ],
            "image/png": "[encoded data removed]"
          },
          "metadata": {
            "needs_background": "light"
          }
        }
      ],
      "source": [
        "sns.countplot(df['Pclass'], hue=df['Survived'])"
      ]
    },
    {
      "cell_type": "code",
      "execution_count": null,
      "metadata": {
        "scrolled": true,
        "id": "2YGQFmU5F7zN",
        "outputId": "9ca11628-0da1-41c3-92e2-ab211d35031d",
        "colab": {
          "base_uri": "https://localhost:8080/",
          "height": 300
        }
      },
      "outputs": [
        {
          "output_type": "execute_result",
          "data": {
            "text/plain": [
              "<matplotlib.axes._subplots.AxesSubplot at 0x7fbb675983d0>"
            ]
          },
          "metadata": {},
          "execution_count": 10
        },
        {
          "output_type": "display_data",
          "data": {
            "text/plain": [
              "<Figure size 432x288 with 1 Axes>"
            ],
            "image/png": "[encoded data removed]"
          },
          "metadata": {
            "needs_background": "light"
          }
        }
      ],
      "source": [
        "sns.countplot(df['Sex'], hue=df['Survived'])"
      ]
    },
    {
      "cell_type": "code",
      "execution_count": null,
      "metadata": {
        "id": "iK2OrX-bF7zO",
        "outputId": "949a6b0e-10b8-4b16-8b69-637733568cf4",
        "colab": {
          "base_uri": "https://localhost:8080/",
          "height": 300
        }
      },
      "outputs": [
        {
          "output_type": "execute_result",
          "data": {
            "text/plain": [
              "<matplotlib.axes._subplots.AxesSubplot at 0x7fbb674fdbd0>"
            ]
          },
          "metadata": {},
          "execution_count": 11
        },
        {
          "output_type": "display_data",
          "data": {
            "text/plain": [
              "<Figure size 432x288 with 1 Axes>"
            ],
            "image/png": "[encoded data removed]"
          },
          "metadata": {
            "needs_background": "light"
          }
        }
      ],
      "source": [
        "sns.countplot(df['Embarked'], hue=df['Survived'])"
      ]
    },
    {
      "cell_type": "code",
      "execution_count": null,
      "metadata": {
        "id": "VtHxIeRcF7zP",
        "outputId": "4d3cd4ca-90ee-478d-efda-77e822746c2a",
        "colab": {
          "base_uri": "https://localhost:8080/",
          "height": 245
        }
      },
      "outputs": [
        {
          "output_type": "execute_result",
          "data": {
            "text/plain": [
              "<seaborn.axisgrid.FacetGrid at 0x7fbb67489090>"
            ]
          },
          "metadata": {},
          "execution_count": 12
        },
        {
          "output_type": "display_data",
          "data": {
            "text/plain": [
              "<Figure size 432x216 with 2 Axes>"
            ],
            "image/png": "[encoded data removed]"
          },
          "metadata": {
            "needs_background": "light"
          }
        }
      ],
      "source": [
        "g = sns.FacetGrid(df, col='Survived')\n",
        "g.map(sns.distplot, 'Age', kde=False)"
      ]
    },
    {
      "cell_type": "code",
      "execution_count": null,
      "metadata": {
        "id": "xAPpaOsOF7zQ",
        "outputId": "94a057d3-f939-4459-a3d7-9a6a1b8627b7",
        "colab": {
          "base_uri": "https://localhost:8080/",
          "height": 245
        }
      },
      "outputs": [
        {
          "output_type": "execute_result",
          "data": {
            "text/plain": [
              "<seaborn.axisgrid.FacetGrid at 0x7fbb6733bc10>"
            ]
          },
          "metadata": {},
          "execution_count": 13
        },
        {
          "output_type": "display_data",
          "data": {
            "text/plain": [
              "<Figure size 432x216 with 2 Axes>"
            ],
            "image/png": "[encoded data removed]"
          },
          "metadata": {
            "needs_background": "light"
          }
        }
      ],
      "source": [
        "g = sns.FacetGrid(df, col='Survived')\n",
        "g.map(sns.distplot, 'Fare', kde=False)"
      ]
    },
    {
      "cell_type": "code",
      "execution_count": null,
      "metadata": {
        "id": "pfSt5hBsF7zT",
        "outputId": "dd345876-8077-4e98-81a2-0ac35d6c3400",
        "colab": {
          "base_uri": "https://localhost:8080/",
          "height": 245
        }
      },
      "outputs": [
        {
          "output_type": "execute_result",
          "data": {
            "text/plain": [
              "<seaborn.axisgrid.FacetGrid at 0x7fbb67137bd0>"
            ]
          },
          "metadata": {},
          "execution_count": 14
        },
        {
          "output_type": "display_data",
          "data": {
            "text/plain": [
              "<Figure size 432x216 with 2 Axes>"
            ],
            "image/png": "[encoded data removed]"
          },
          "metadata": {
            "needs_background": "light"
          }
        }
      ],
      "source": [
        "g = sns.FacetGrid(df, col='Survived')\n",
        "g.map(sns.distplot, 'Parch', kde=False)"
      ]
    },
    {
      "cell_type": "code",
      "execution_count": null,
      "metadata": {
        "id": "H78IH5dOF7zU",
        "outputId": "59229164-c856-4f9f-9ffc-ad77fef88d51",
        "colab": {
          "base_uri": "https://localhost:8080/",
          "height": 245
        }
      },
      "outputs": [
        {
          "output_type": "execute_result",
          "data": {
            "text/plain": [
              "<seaborn.axisgrid.FacetGrid at 0x7fbb67045fd0>"
            ]
          },
          "metadata": {},
          "execution_count": 15
        },
        {
          "output_type": "display_data",
          "data": {
            "text/plain": [
              "<Figure size 432x216 with 2 Axes>"
            ],
            "image/png": "[encoded data removed]"
          },
          "metadata": {
            "needs_background": "light"
          }
        }
      ],
      "source": [
        "g = sns.FacetGrid(df, col='Survived')\n",
        "g.map(sns.distplot, 'SibSp', kde=False)"
      ]
    },
    {
      "cell_type": "code",
      "execution_count": null,
      "metadata": {
        "scrolled": true,
        "id": "uZUmKmErF7zV",
        "outputId": "a963aef5-5368-4337-924f-fe9ec00d8095",
        "colab": {
          "base_uri": "https://localhost:8080/",
          "height": 245
        }
      },
      "outputs": [
        {
          "output_type": "execute_result",
          "data": {
            "text/plain": [
              "<seaborn.axisgrid.FacetGrid at 0x7fbb6729abd0>"
            ]
          },
          "metadata": {},
          "execution_count": 16
        },
        {
          "output_type": "display_data",
          "data": {
            "text/plain": [
              "<Figure size 432x216 with 2 Axes>"
            ],
            "image/png": "[encoded data removed]"
          },
          "metadata": {
            "needs_background": "light"
          }
        }
      ],
      "source": [
        "#合併Parch&Sibsp 新增Family_size\n",
        "df['Family_Size'] = df['Parch'] + df['SibSp']\n",
        "g = sns.FacetGrid(df, col='Survived')\n",
        "g.map(sns.distplot, 'Family_Size', kde=False)"
      ]
    },
    {
      "cell_type": "markdown",
      "source": [
        "觀察Name這個欄位，其組成結構為： 名, 稱謂. 姓氏"
      ],
      "metadata": {
        "id": "shcxGlHmvokM"
      }
    },
    {
      "cell_type": "code",
      "execution_count": null,
      "metadata": {
        "id": "nPhoK9IkF7zV",
        "outputId": "710f9503-2059-4d2f-cc0b-2cd0c8739767",
        "colab": {
          "base_uri": "https://localhost:8080/"
        }
      },
      "outputs": [
        {
          "output_type": "execute_result",
          "data": {
            "text/plain": [
              "0                                Braund, Mr. Owen Harris\n",
              "1      Cumings, Mrs. John Bradley (Florence Briggs Th...\n",
              "2                                 Heikkinen, Miss. Laina\n",
              "3           Futrelle, Mrs. Jacques Heath (Lily May Peel)\n",
              "4                               Allen, Mr. William Henry\n",
              "                             ...                        \n",
              "886                                Montvila, Rev. Juozas\n",
              "887                         Graham, Miss. Margaret Edith\n",
              "888             Johnston, Miss. Catherine Helen \"Carrie\"\n",
              "889                                Behr, Mr. Karl Howell\n",
              "890                                  Dooley, Mr. Patrick\n",
              "Name: Name, Length: 891, dtype: object"
            ]
          },
          "metadata": {},
          "execution_count": 17
        }
      ],
      "source": [
        "df['Name']"
      ]
    },
    {
      "cell_type": "markdown",
      "source": [
        "將Name欄位中的“稱謂”提取出來，放到新的欄位'Title1'<br>\n",
        "先將逗號前的字分割，再將句號後的字分割，保留中間的Title"
      ],
      "metadata": {
        "id": "5IYGOX6XVlVU"
      }
    },
    {
      "cell_type": "code",
      "execution_count": null,
      "metadata": {
        "id": "6wFLjRV_F7zW",
        "outputId": "8f4a3e6d-6325-4e5f-e9ab-35d7cf5c680d",
        "colab": {
          "base_uri": "https://localhost:8080/",
          "height": 172
        }
      },
      "outputs": [
        {
          "output_type": "execute_result",
          "data": {
            "text/plain": [
              "           0                                           1\n",
              "0     Braund                             Mr. Owen Harris\n",
              "1    Cumings  Mrs. John Bradley (Florence Briggs Thayer)\n",
              "2  Heikkinen                                 Miss. Laina"
            ],
            "text/html": [
              "\n",
              "  <div id=\"df-294cd66e-d0a9-462d-8729-892c2c6f171c\">\n",
              "    <div class=\"colab-df-container\">\n",
              "      <div>\n",
              "<style scoped>\n",
              "    .dataframe tbody tr th:only-of-type {\n",
              "        vertical-align: middle;\n",
              "    }\n",
              "\n",
              "    .dataframe tbody tr th {\n",
              "        vertical-align: top;\n",
              "    }\n",
              "\n",
              "    .dataframe thead th {\n",
              "        text-align: right;\n",
              "    }\n",
              "</style>\n",
              "<table border=\"1\" class=\"dataframe\">\n",
              "  <thead>\n",
              "    <tr style=\"text-align: right;\">\n",
              "      <th></th>\n",
              "      <th>0</th>\n",
              "      <th>1</th>\n",
              "    </tr>\n",
              "  </thead>\n",
              "  <tbody>\n",
              "    <tr>\n",
              "      <th>0</th>\n",
              "      <td>Braund</td>\n",
              "      <td>Mr. Owen Harris</td>\n",
              "    </tr>\n",
              "    <tr>\n",
              "      <th>1</th>\n",
              "      <td>Cumings</td>\n",
              "      <td>Mrs. John Bradley (Florence Briggs Thayer)</td>\n",
              "    </tr>\n",
              "    <tr>\n",
              "      <th>2</th>\n",
              "      <td>Heikkinen</td>\n",
              "      <td>Miss. Laina</td>\n",
              "    </tr>\n",
              "  </tbody>\n",
              "</table>\n",
              "</div>\n",
              "      <button class=\"colab-df-convert\" onclick=\"convertToInteractive('df-294cd66e-d0a9-462d-8729-892c2c6f171c')\"\n",
              "              title=\"Convert this dataframe to an interactive table.\"\n",
              "              style=\"display:none;\">\n",
              "        \n",
              "  <svg xmlns=\"http://www.w3.org/2000/svg\" height=\"24px\"viewBox=\"0 0 24 24\"\n",
              "       width=\"24px\">\n",
              "    <path d=\"M0 0h24v24H0V0z\" fill=\"none\"/>\n",
              "    <path d=\"M18.56 5.44l.94 2.06.94-2.06 2.06-.94-2.06-.94-.94-2.06-.94 2.06-2.06.94zm-11 1L8.5 8.5l.94-2.06 2.06-.94-2.06-.94L8.5 2.5l-.94 2.06-2.06.94zm10 10l.94 2.06.94-2.06 2.06-.94-2.06-.94-.94-2.06-.94 2.06-2.06.94z\"/><path d=\"M17.41 7.96l-1.37-1.37c-.4-.4-.92-.59-1.43-.59-.52 0-1.04.2-1.43.59L10.3 9.45l-7.72 7.72c-.78.78-.78 2.05 0 2.83L4 21.41c.39.39.9.59 1.41.59.51 0 1.02-.2 1.41-.59l7.78-7.78 2.81-2.81c.8-.78.8-2.07 0-2.86zM5.41 20L4 18.59l7.72-7.72 1.47 1.35L5.41 20z\"/>\n",
              "  </svg>\n",
              "      </button>\n",
              "      \n",
              "  <style>\n",
              "    .colab-df-container {\n",
              "      display:flex;\n",
              "      flex-wrap:wrap;\n",
              "      gap: 12px;\n",
              "    }\n",
              "\n",
              "    .colab-df-convert {\n",
              "      background-color: #E8F0FE;\n",
              "      border: none;\n",
              "      border-radius: 50%;\n",
              "      cursor: pointer;\n",
              "      display: none;\n",
              "      fill: #1967D2;\n",
              "      height: 32px;\n",
              "      padding: 0 0 0 0;\n",
              "      width: 32px;\n",
              "    }\n",
              "\n",
              "    .colab-df-convert:hover {\n",
              "      background-color: #E2EBFA;\n",
              "      box-shadow: 0px 1px 2px rgba(60, 64, 67, 0.3), 0px 1px 3px 1px rgba(60, 64, 67, 0.15);\n",
              "      fill: #174EA6;\n",
              "    }\n",
              "\n",
              "    [theme=dark] .colab-df-convert {\n",
              "      background-color: #3B4455;\n",
              "      fill: #D2E3FC;\n",
              "    }\n",
              "\n",
              "    [theme=dark] .colab-df-convert:hover {\n",
              "      background-color: #434B5C;\n",
              "      box-shadow: 0px 1px 3px 1px rgba(0, 0, 0, 0.15);\n",
              "      filter: drop-shadow(0px 1px 2px rgba(0, 0, 0, 0.3));\n",
              "      fill: #FFFFFF;\n",
              "    }\n",
              "  </style>\n",
              "\n",
              "      <script>\n",
              "        const buttonEl =\n",
              "          document.querySelector('#df-294cd66e-d0a9-462d-8729-892c2c6f171c button.colab-df-convert');\n",
              "        buttonEl.style.display =\n",
              "          google.colab.kernel.accessAllowed ? 'block' : 'none';\n",
              "\n",
              "        async function convertToInteractive(key) {\n",
              "          const element = document.querySelector('#df-294cd66e-d0a9-462d-8729-892c2c6f171c');\n",
              "          const dataTable =\n",
              "            await google.colab.kernel.invokeFunction('convertToInteractive',\n",
              "                                                     [key], {});\n",
              "          if (!dataTable) return;\n",
              "\n",
              "          const docLinkHtml = 'Like what you see? Visit the ' +\n",
              "            '<a target=\"_blank\" href=https://colab.research.google.com/notebooks/data_table.ipynb>data table notebook</a>'\n",
              "            + ' to learn more about interactive tables.';\n",
              "          element.innerHTML = '';\n",
              "          dataTable['output_type'] = 'display_data';\n",
              "          await google.colab.output.renderOutput(dataTable, element);\n",
              "          const docLink = document.createElement('div');\n",
              "          docLink.innerHTML = docLinkHtml;\n",
              "          element.appendChild(docLink);\n",
              "        }\n",
              "      </script>\n",
              "    </div>\n",
              "  </div>\n",
              "  "
            ]
          },
          "metadata": {},
          "execution_count": 18
        }
      ],
      "source": [
        "df['Title1'] = df['Name'].str.split(\", \", expand=True)[1]\n",
        "df['Name'].str.split(\", \", expand=True).head(3)"
      ]
    },
    {
      "cell_type": "code",
      "execution_count": null,
      "metadata": {
        "id": "SDZcgwfzF7zY",
        "outputId": "d681b9dc-8ab3-4e44-ee37-7933cd56fb99",
        "colab": {
          "base_uri": "https://localhost:8080/"
        }
      },
      "outputs": [
        {
          "output_type": "execute_result",
          "data": {
            "text/plain": [
              "0      Mr\n",
              "1     Mrs\n",
              "2    Miss\n",
              "Name: Title1, dtype: object"
            ]
          },
          "metadata": {},
          "execution_count": 19
        }
      ],
      "source": [
        "df['Title1'] = df['Title1'].str.split(\".\", expand=True)[0]\n",
        "df['Title1'].head(3)"
      ]
    },
    {
      "cell_type": "markdown",
      "source": [
        "初步提取出17種稱謂"
      ],
      "metadata": {
        "id": "PzocmoCsD0Nh"
      }
    },
    {
      "cell_type": "code",
      "execution_count": null,
      "metadata": {
        "id": "tCn76TY3F7zZ",
        "outputId": "8af42b53-c364-4de0-8de6-9166ecd45b92",
        "colab": {
          "base_uri": "https://localhost:8080/"
        }
      },
      "outputs": [
        {
          "output_type": "stream",
          "name": "stdout",
          "text": [
            "['Mr' 'Mrs' 'Miss' 'Master' 'Don' 'Rev' 'Dr' 'Mme' 'Ms' 'Major' 'Lady'\n",
            " 'Sir' 'Mlle' 'Col' 'Capt' 'the Countess' 'Jonkheer']\n",
            "Title num: 17\n"
          ]
        }
      ],
      "source": [
        "print(df['Title1'].unique())\n",
        "print('Title num:',len(df['Title1'].unique()))"
      ]
    },
    {
      "cell_type": "markdown",
      "source": [
        "查看各個‘稱謂’中，性別與生還的狀況<br>\n",
        "發現以女性為主的稱謂（Mrs、Miss、Lady），生還率明顯較高"
      ],
      "metadata": {
        "id": "dNf0JqPaV7gk"
      }
    },
    {
      "cell_type": "code",
      "execution_count": null,
      "metadata": {
        "id": "_qO0jYwCF7zZ",
        "outputId": "2182df64-b7f3-4b9f-8037-18a6bd248557",
        "colab": {
          "base_uri": "https://localhost:8080/",
          "height": 172
        }
      },
      "outputs": [
        {
          "output_type": "execute_result",
          "data": {
            "text/plain": [
              "<pandas.io.formats.style.Styler at 0x7fbb66d555d0>"
            ],
            "text/html": [
              "<style type=\"text/css\">\n",
              "#T_286b2_row0_col0, #T_286b2_row0_col1, #T_286b2_row0_col2, #T_286b2_row0_col3, #T_286b2_row0_col4, #T_286b2_row0_col6, #T_286b2_row0_col7, #T_286b2_row0_col11, #T_286b2_row0_col14, #T_286b2_row0_col15, #T_286b2_row1_col5, #T_286b2_row1_col8, #T_286b2_row1_col9, #T_286b2_row1_col10, #T_286b2_row1_col12, #T_286b2_row1_col13, #T_286b2_row1_col16 {\n",
              "  background-color: #fbb4ae;\n",
              "  color: #000000;\n",
              "}\n",
              "#T_286b2_row0_col5, #T_286b2_row0_col8, #T_286b2_row0_col9, #T_286b2_row0_col10, #T_286b2_row0_col12, #T_286b2_row0_col13, #T_286b2_row0_col16, #T_286b2_row1_col0, #T_286b2_row1_col1, #T_286b2_row1_col2, #T_286b2_row1_col3, #T_286b2_row1_col4, #T_286b2_row1_col6, #T_286b2_row1_col7, #T_286b2_row1_col11, #T_286b2_row1_col14, #T_286b2_row1_col15 {\n",
              "  background-color: #f2f2f2;\n",
              "  color: #000000;\n",
              "}\n",
              "</style>\n",
              "<table id=\"T_286b2_\" class=\"dataframe\">\n",
              "  <thead>\n",
              "    <tr>\n",
              "      <th class=\"index_name level0\" >Title1</th>\n",
              "      <th class=\"col_heading level0 col0\" >Capt</th>\n",
              "      <th class=\"col_heading level0 col1\" >Col</th>\n",
              "      <th class=\"col_heading level0 col2\" >Don</th>\n",
              "      <th class=\"col_heading level0 col3\" >Dr</th>\n",
              "      <th class=\"col_heading level0 col4\" >Jonkheer</th>\n",
              "      <th class=\"col_heading level0 col5\" >Lady</th>\n",
              "      <th class=\"col_heading level0 col6\" >Major</th>\n",
              "      <th class=\"col_heading level0 col7\" >Master</th>\n",
              "      <th class=\"col_heading level0 col8\" >Miss</th>\n",
              "      <th class=\"col_heading level0 col9\" >Mlle</th>\n",
              "      <th class=\"col_heading level0 col10\" >Mme</th>\n",
              "      <th class=\"col_heading level0 col11\" >Mr</th>\n",
              "      <th class=\"col_heading level0 col12\" >Mrs</th>\n",
              "      <th class=\"col_heading level0 col13\" >Ms</th>\n",
              "      <th class=\"col_heading level0 col14\" >Rev</th>\n",
              "      <th class=\"col_heading level0 col15\" >Sir</th>\n",
              "      <th class=\"col_heading level0 col16\" >the Countess</th>\n",
              "    </tr>\n",
              "    <tr>\n",
              "      <th class=\"index_name level0\" >Sex</th>\n",
              "      <th class=\"blank col0\" >&nbsp;</th>\n",
              "      <th class=\"blank col1\" >&nbsp;</th>\n",
              "      <th class=\"blank col2\" >&nbsp;</th>\n",
              "      <th class=\"blank col3\" >&nbsp;</th>\n",
              "      <th class=\"blank col4\" >&nbsp;</th>\n",
              "      <th class=\"blank col5\" >&nbsp;</th>\n",
              "      <th class=\"blank col6\" >&nbsp;</th>\n",
              "      <th class=\"blank col7\" >&nbsp;</th>\n",
              "      <th class=\"blank col8\" >&nbsp;</th>\n",
              "      <th class=\"blank col9\" >&nbsp;</th>\n",
              "      <th class=\"blank col10\" >&nbsp;</th>\n",
              "      <th class=\"blank col11\" >&nbsp;</th>\n",
              "      <th class=\"blank col12\" >&nbsp;</th>\n",
              "      <th class=\"blank col13\" >&nbsp;</th>\n",
              "      <th class=\"blank col14\" >&nbsp;</th>\n",
              "      <th class=\"blank col15\" >&nbsp;</th>\n",
              "      <th class=\"blank col16\" >&nbsp;</th>\n",
              "    </tr>\n",
              "  </thead>\n",
              "  <tbody>\n",
              "    <tr>\n",
              "      <th id=\"T_286b2_level0_row0\" class=\"row_heading level0 row0\" >female</th>\n",
              "      <td id=\"T_286b2_row0_col0\" class=\"data row0 col0\" >0</td>\n",
              "      <td id=\"T_286b2_row0_col1\" class=\"data row0 col1\" >0</td>\n",
              "      <td id=\"T_286b2_row0_col2\" class=\"data row0 col2\" >0</td>\n",
              "      <td id=\"T_286b2_row0_col3\" class=\"data row0 col3\" >1</td>\n",
              "      <td id=\"T_286b2_row0_col4\" class=\"data row0 col4\" >0</td>\n",
              "      <td id=\"T_286b2_row0_col5\" class=\"data row0 col5\" >1</td>\n",
              "      <td id=\"T_286b2_row0_col6\" class=\"data row0 col6\" >0</td>\n",
              "      <td id=\"T_286b2_row0_col7\" class=\"data row0 col7\" >0</td>\n",
              "      <td id=\"T_286b2_row0_col8\" class=\"data row0 col8\" >182</td>\n",
              "      <td id=\"T_286b2_row0_col9\" class=\"data row0 col9\" >2</td>\n",
              "      <td id=\"T_286b2_row0_col10\" class=\"data row0 col10\" >1</td>\n",
              "      <td id=\"T_286b2_row0_col11\" class=\"data row0 col11\" >0</td>\n",
              "      <td id=\"T_286b2_row0_col12\" class=\"data row0 col12\" >125</td>\n",
              "      <td id=\"T_286b2_row0_col13\" class=\"data row0 col13\" >1</td>\n",
              "      <td id=\"T_286b2_row0_col14\" class=\"data row0 col14\" >0</td>\n",
              "      <td id=\"T_286b2_row0_col15\" class=\"data row0 col15\" >0</td>\n",
              "      <td id=\"T_286b2_row0_col16\" class=\"data row0 col16\" >1</td>\n",
              "    </tr>\n",
              "    <tr>\n",
              "      <th id=\"T_286b2_level0_row1\" class=\"row_heading level0 row1\" >male</th>\n",
              "      <td id=\"T_286b2_row1_col0\" class=\"data row1 col0\" >1</td>\n",
              "      <td id=\"T_286b2_row1_col1\" class=\"data row1 col1\" >2</td>\n",
              "      <td id=\"T_286b2_row1_col2\" class=\"data row1 col2\" >1</td>\n",
              "      <td id=\"T_286b2_row1_col3\" class=\"data row1 col3\" >6</td>\n",
              "      <td id=\"T_286b2_row1_col4\" class=\"data row1 col4\" >1</td>\n",
              "      <td id=\"T_286b2_row1_col5\" class=\"data row1 col5\" >0</td>\n",
              "      <td id=\"T_286b2_row1_col6\" class=\"data row1 col6\" >2</td>\n",
              "      <td id=\"T_286b2_row1_col7\" class=\"data row1 col7\" >40</td>\n",
              "      <td id=\"T_286b2_row1_col8\" class=\"data row1 col8\" >0</td>\n",
              "      <td id=\"T_286b2_row1_col9\" class=\"data row1 col9\" >0</td>\n",
              "      <td id=\"T_286b2_row1_col10\" class=\"data row1 col10\" >0</td>\n",
              "      <td id=\"T_286b2_row1_col11\" class=\"data row1 col11\" >517</td>\n",
              "      <td id=\"T_286b2_row1_col12\" class=\"data row1 col12\" >0</td>\n",
              "      <td id=\"T_286b2_row1_col13\" class=\"data row1 col13\" >0</td>\n",
              "      <td id=\"T_286b2_row1_col14\" class=\"data row1 col14\" >6</td>\n",
              "      <td id=\"T_286b2_row1_col15\" class=\"data row1 col15\" >1</td>\n",
              "      <td id=\"T_286b2_row1_col16\" class=\"data row1 col16\" >0</td>\n",
              "    </tr>\n",
              "  </tbody>\n",
              "</table>\n"
            ]
          },
          "metadata": {},
          "execution_count": 21
        }
      ],
      "source": [
        "pd.crosstab(df['Title1'],df['Sex']).T.style.background_gradient(cmap='Pastel1')"
      ]
    },
    {
      "cell_type": "code",
      "execution_count": null,
      "metadata": {
        "scrolled": true,
        "id": "aCzBP1NMF7zb",
        "outputId": "bcbada76-4c25-4915-a672-a62bd5c129ec",
        "colab": {
          "base_uri": "https://localhost:8080/",
          "height": 172
        }
      },
      "outputs": [
        {
          "output_type": "execute_result",
          "data": {
            "text/plain": [
              "<pandas.io.formats.style.Styler at 0x7fbb66d6b110>"
            ],
            "text/html": [
              "<style type=\"text/css\">\n",
              "#T_b1fc5_row0_col0, #T_b1fc5_row0_col2, #T_b1fc5_row0_col3, #T_b1fc5_row0_col4, #T_b1fc5_row0_col11, #T_b1fc5_row0_col14, #T_b1fc5_row1_col5, #T_b1fc5_row1_col7, #T_b1fc5_row1_col8, #T_b1fc5_row1_col9, #T_b1fc5_row1_col10, #T_b1fc5_row1_col12, #T_b1fc5_row1_col13, #T_b1fc5_row1_col15, #T_b1fc5_row1_col16 {\n",
              "  background-color: #f2f2f2;\n",
              "  color: #000000;\n",
              "}\n",
              "#T_b1fc5_row0_col1, #T_b1fc5_row0_col5, #T_b1fc5_row0_col6, #T_b1fc5_row0_col7, #T_b1fc5_row0_col8, #T_b1fc5_row0_col9, #T_b1fc5_row0_col10, #T_b1fc5_row0_col12, #T_b1fc5_row0_col13, #T_b1fc5_row0_col15, #T_b1fc5_row0_col16, #T_b1fc5_row1_col0, #T_b1fc5_row1_col1, #T_b1fc5_row1_col2, #T_b1fc5_row1_col3, #T_b1fc5_row1_col4, #T_b1fc5_row1_col6, #T_b1fc5_row1_col11, #T_b1fc5_row1_col14 {\n",
              "  background-color: #fbb4ae;\n",
              "  color: #000000;\n",
              "}\n",
              "</style>\n",
              "<table id=\"T_b1fc5_\" class=\"dataframe\">\n",
              "  <thead>\n",
              "    <tr>\n",
              "      <th class=\"index_name level0\" >Title1</th>\n",
              "      <th class=\"col_heading level0 col0\" >Capt</th>\n",
              "      <th class=\"col_heading level0 col1\" >Col</th>\n",
              "      <th class=\"col_heading level0 col2\" >Don</th>\n",
              "      <th class=\"col_heading level0 col3\" >Dr</th>\n",
              "      <th class=\"col_heading level0 col4\" >Jonkheer</th>\n",
              "      <th class=\"col_heading level0 col5\" >Lady</th>\n",
              "      <th class=\"col_heading level0 col6\" >Major</th>\n",
              "      <th class=\"col_heading level0 col7\" >Master</th>\n",
              "      <th class=\"col_heading level0 col8\" >Miss</th>\n",
              "      <th class=\"col_heading level0 col9\" >Mlle</th>\n",
              "      <th class=\"col_heading level0 col10\" >Mme</th>\n",
              "      <th class=\"col_heading level0 col11\" >Mr</th>\n",
              "      <th class=\"col_heading level0 col12\" >Mrs</th>\n",
              "      <th class=\"col_heading level0 col13\" >Ms</th>\n",
              "      <th class=\"col_heading level0 col14\" >Rev</th>\n",
              "      <th class=\"col_heading level0 col15\" >Sir</th>\n",
              "      <th class=\"col_heading level0 col16\" >the Countess</th>\n",
              "    </tr>\n",
              "    <tr>\n",
              "      <th class=\"index_name level0\" >Survived</th>\n",
              "      <th class=\"blank col0\" >&nbsp;</th>\n",
              "      <th class=\"blank col1\" >&nbsp;</th>\n",
              "      <th class=\"blank col2\" >&nbsp;</th>\n",
              "      <th class=\"blank col3\" >&nbsp;</th>\n",
              "      <th class=\"blank col4\" >&nbsp;</th>\n",
              "      <th class=\"blank col5\" >&nbsp;</th>\n",
              "      <th class=\"blank col6\" >&nbsp;</th>\n",
              "      <th class=\"blank col7\" >&nbsp;</th>\n",
              "      <th class=\"blank col8\" >&nbsp;</th>\n",
              "      <th class=\"blank col9\" >&nbsp;</th>\n",
              "      <th class=\"blank col10\" >&nbsp;</th>\n",
              "      <th class=\"blank col11\" >&nbsp;</th>\n",
              "      <th class=\"blank col12\" >&nbsp;</th>\n",
              "      <th class=\"blank col13\" >&nbsp;</th>\n",
              "      <th class=\"blank col14\" >&nbsp;</th>\n",
              "      <th class=\"blank col15\" >&nbsp;</th>\n",
              "      <th class=\"blank col16\" >&nbsp;</th>\n",
              "    </tr>\n",
              "  </thead>\n",
              "  <tbody>\n",
              "    <tr>\n",
              "      <th id=\"T_b1fc5_level0_row0\" class=\"row_heading level0 row0\" >0</th>\n",
              "      <td id=\"T_b1fc5_row0_col0\" class=\"data row0 col0\" >1</td>\n",
              "      <td id=\"T_b1fc5_row0_col1\" class=\"data row0 col1\" >1</td>\n",
              "      <td id=\"T_b1fc5_row0_col2\" class=\"data row0 col2\" >1</td>\n",
              "      <td id=\"T_b1fc5_row0_col3\" class=\"data row0 col3\" >4</td>\n",
              "      <td id=\"T_b1fc5_row0_col4\" class=\"data row0 col4\" >1</td>\n",
              "      <td id=\"T_b1fc5_row0_col5\" class=\"data row0 col5\" >0</td>\n",
              "      <td id=\"T_b1fc5_row0_col6\" class=\"data row0 col6\" >1</td>\n",
              "      <td id=\"T_b1fc5_row0_col7\" class=\"data row0 col7\" >17</td>\n",
              "      <td id=\"T_b1fc5_row0_col8\" class=\"data row0 col8\" >55</td>\n",
              "      <td id=\"T_b1fc5_row0_col9\" class=\"data row0 col9\" >0</td>\n",
              "      <td id=\"T_b1fc5_row0_col10\" class=\"data row0 col10\" >0</td>\n",
              "      <td id=\"T_b1fc5_row0_col11\" class=\"data row0 col11\" >436</td>\n",
              "      <td id=\"T_b1fc5_row0_col12\" class=\"data row0 col12\" >26</td>\n",
              "      <td id=\"T_b1fc5_row0_col13\" class=\"data row0 col13\" >0</td>\n",
              "      <td id=\"T_b1fc5_row0_col14\" class=\"data row0 col14\" >6</td>\n",
              "      <td id=\"T_b1fc5_row0_col15\" class=\"data row0 col15\" >0</td>\n",
              "      <td id=\"T_b1fc5_row0_col16\" class=\"data row0 col16\" >0</td>\n",
              "    </tr>\n",
              "    <tr>\n",
              "      <th id=\"T_b1fc5_level0_row1\" class=\"row_heading level0 row1\" >1</th>\n",
              "      <td id=\"T_b1fc5_row1_col0\" class=\"data row1 col0\" >0</td>\n",
              "      <td id=\"T_b1fc5_row1_col1\" class=\"data row1 col1\" >1</td>\n",
              "      <td id=\"T_b1fc5_row1_col2\" class=\"data row1 col2\" >0</td>\n",
              "      <td id=\"T_b1fc5_row1_col3\" class=\"data row1 col3\" >3</td>\n",
              "      <td id=\"T_b1fc5_row1_col4\" class=\"data row1 col4\" >0</td>\n",
              "      <td id=\"T_b1fc5_row1_col5\" class=\"data row1 col5\" >1</td>\n",
              "      <td id=\"T_b1fc5_row1_col6\" class=\"data row1 col6\" >1</td>\n",
              "      <td id=\"T_b1fc5_row1_col7\" class=\"data row1 col7\" >23</td>\n",
              "      <td id=\"T_b1fc5_row1_col8\" class=\"data row1 col8\" >127</td>\n",
              "      <td id=\"T_b1fc5_row1_col9\" class=\"data row1 col9\" >2</td>\n",
              "      <td id=\"T_b1fc5_row1_col10\" class=\"data row1 col10\" >1</td>\n",
              "      <td id=\"T_b1fc5_row1_col11\" class=\"data row1 col11\" >81</td>\n",
              "      <td id=\"T_b1fc5_row1_col12\" class=\"data row1 col12\" >99</td>\n",
              "      <td id=\"T_b1fc5_row1_col13\" class=\"data row1 col13\" >1</td>\n",
              "      <td id=\"T_b1fc5_row1_col14\" class=\"data row1 col14\" >0</td>\n",
              "      <td id=\"T_b1fc5_row1_col15\" class=\"data row1 col15\" >1</td>\n",
              "      <td id=\"T_b1fc5_row1_col16\" class=\"data row1 col16\" >1</td>\n",
              "    </tr>\n",
              "  </tbody>\n",
              "</table>\n"
            ]
          },
          "metadata": {},
          "execution_count": 22
        }
      ],
      "source": [
        "pd.crosstab(df['Title1'],df['Survived']).T.style.background_gradient(cmap='Pastel1')"
      ]
    },
    {
      "cell_type": "markdown",
      "source": [
        "查看各個稱謂的平均年齡，接著將性別相同且平均年紀相似的稱謂合併<br>\n",
        "歸納出四大稱謂‘Mr', 'Mrs', 'Miss', 'Master'，並創造新欄位\"Title2''"
      ],
      "metadata": {
        "id": "JxjCaAZuYVKZ"
      }
    },
    {
      "cell_type": "code",
      "execution_count": null,
      "metadata": {
        "id": "D29ox7WGF7zb",
        "outputId": "edf56836-eb16-4f1e-fc2d-a6a730385175",
        "colab": {
          "base_uri": "https://localhost:8080/"
        }
      },
      "outputs": [
        {
          "output_type": "execute_result",
          "data": {
            "text/plain": [
              "Title1\n",
              "Capt            70.000000\n",
              "Col             58.000000\n",
              "Don             40.000000\n",
              "Dr              42.000000\n",
              "Jonkheer        38.000000\n",
              "Lady            48.000000\n",
              "Major           48.500000\n",
              "Master           4.574167\n",
              "Miss            21.773973\n",
              "Mlle            24.000000\n",
              "Mme             24.000000\n",
              "Mr              32.368090\n",
              "Mrs             35.898148\n",
              "Ms              28.000000\n",
              "Rev             43.166667\n",
              "Sir             49.000000\n",
              "the Countess    33.000000\n",
              "Name: Age, dtype: float64"
            ]
          },
          "metadata": {},
          "execution_count": 23
        }
      ],
      "source": [
        "df.groupby(['Title1'])['Age'].mean()"
      ]
    },
    {
      "cell_type": "code",
      "execution_count": null,
      "metadata": {
        "id": "D0_xUnoUF7zd"
      },
      "outputs": [],
      "source": [
        "df['Title2'] = df['Title1'].replace(['Mlle','Mme','Ms','Dr','Major','Lady', 'the Countess','Jonkheer','Col','Rev','Capt','Sir','Don','Dona'],\n",
        "                                             ['Miss','Mrs','Miss','Mr','Mr','Mrs','Mrs','Mr','Mr','Mr','Mr','Mr','Mr','Mrs'])"
      ]
    },
    {
      "cell_type": "code",
      "execution_count": null,
      "metadata": {
        "id": "YvLK7DhtF7zd",
        "outputId": "2229b5b2-6003-4855-bee7-631f284f3efa",
        "colab": {
          "base_uri": "https://localhost:8080/"
        }
      },
      "outputs": [
        {
          "output_type": "execute_result",
          "data": {
            "text/plain": [
              "array(['Mr', 'Mrs', 'Miss', 'Master'], dtype=object)"
            ]
          },
          "metadata": {},
          "execution_count": 25
        }
      ],
      "source": [
        "df['Title2'].unique()"
      ]
    },
    {
      "cell_type": "code",
      "execution_count": null,
      "metadata": {
        "id": "BZG6JKp2F7ze",
        "outputId": "9e2b0452-f098-4de5-eecc-60fdc816b85b",
        "colab": {
          "base_uri": "https://localhost:8080/"
        }
      },
      "outputs": [
        {
          "output_type": "execute_result",
          "data": {
            "text/plain": [
              "Title2\n",
              "Master     4.574167\n",
              "Miss      21.845638\n",
              "Mr        33.022727\n",
              "Mrs       35.873874\n",
              "Name: Age, dtype: float64"
            ]
          },
          "metadata": {},
          "execution_count": 26
        }
      ],
      "source": [
        "df.groupby('Title2')['Age'].mean()"
      ]
    },
    {
      "cell_type": "code",
      "execution_count": null,
      "metadata": {
        "id": "Li76r7YAF7zg",
        "outputId": "0410317f-3a40-4882-f348-e60a3a1e7e5d",
        "colab": {
          "base_uri": "https://localhost:8080/",
          "height": 172
        }
      },
      "outputs": [
        {
          "output_type": "execute_result",
          "data": {
            "text/plain": [
              "<pandas.io.formats.style.Styler at 0x7fbb6ab6d210>"
            ],
            "text/html": [
              "<style type=\"text/css\">\n",
              "#T_d229c_row0_col0, #T_d229c_row0_col2, #T_d229c_row1_col1, #T_d229c_row1_col3 {\n",
              "  background-color: #fbb4ae;\n",
              "  color: #000000;\n",
              "}\n",
              "#T_d229c_row0_col1, #T_d229c_row0_col3, #T_d229c_row1_col0, #T_d229c_row1_col2 {\n",
              "  background-color: #f2f2f2;\n",
              "  color: #000000;\n",
              "}\n",
              "</style>\n",
              "<table id=\"T_d229c_\" class=\"dataframe\">\n",
              "  <thead>\n",
              "    <tr>\n",
              "      <th class=\"index_name level0\" >Title2</th>\n",
              "      <th class=\"col_heading level0 col0\" >Master</th>\n",
              "      <th class=\"col_heading level0 col1\" >Miss</th>\n",
              "      <th class=\"col_heading level0 col2\" >Mr</th>\n",
              "      <th class=\"col_heading level0 col3\" >Mrs</th>\n",
              "    </tr>\n",
              "    <tr>\n",
              "      <th class=\"index_name level0\" >Sex</th>\n",
              "      <th class=\"blank col0\" >&nbsp;</th>\n",
              "      <th class=\"blank col1\" >&nbsp;</th>\n",
              "      <th class=\"blank col2\" >&nbsp;</th>\n",
              "      <th class=\"blank col3\" >&nbsp;</th>\n",
              "    </tr>\n",
              "  </thead>\n",
              "  <tbody>\n",
              "    <tr>\n",
              "      <th id=\"T_d229c_level0_row0\" class=\"row_heading level0 row0\" >female</th>\n",
              "      <td id=\"T_d229c_row0_col0\" class=\"data row0 col0\" >0</td>\n",
              "      <td id=\"T_d229c_row0_col1\" class=\"data row0 col1\" >185</td>\n",
              "      <td id=\"T_d229c_row0_col2\" class=\"data row0 col2\" >1</td>\n",
              "      <td id=\"T_d229c_row0_col3\" class=\"data row0 col3\" >128</td>\n",
              "    </tr>\n",
              "    <tr>\n",
              "      <th id=\"T_d229c_level0_row1\" class=\"row_heading level0 row1\" >male</th>\n",
              "      <td id=\"T_d229c_row1_col0\" class=\"data row1 col0\" >40</td>\n",
              "      <td id=\"T_d229c_row1_col1\" class=\"data row1 col1\" >0</td>\n",
              "      <td id=\"T_d229c_row1_col2\" class=\"data row1 col2\" >537</td>\n",
              "      <td id=\"T_d229c_row1_col3\" class=\"data row1 col3\" >0</td>\n",
              "    </tr>\n",
              "  </tbody>\n",
              "</table>\n"
            ]
          },
          "metadata": {},
          "execution_count": 27
        }
      ],
      "source": [
        "pd.crosstab(df['Title2'],df['Sex']).T.style.background_gradient(cmap='Pastel1')"
      ]
    },
    {
      "cell_type": "code",
      "execution_count": null,
      "metadata": {
        "id": "EIAS9Vq8F7zh",
        "outputId": "7d04f3b2-bd00-41d8-9f99-85d6d6ae90e2",
        "colab": {
          "base_uri": "https://localhost:8080/",
          "height": 172
        }
      },
      "outputs": [
        {
          "output_type": "execute_result",
          "data": {
            "text/plain": [
              "<pandas.io.formats.style.Styler at 0x7fbb66d47810>"
            ],
            "text/html": [
              "<style type=\"text/css\">\n",
              "#T_704b7_row0_col0, #T_704b7_row0_col1, #T_704b7_row0_col3, #T_704b7_row1_col2 {\n",
              "  background-color: #fbb4ae;\n",
              "  color: #000000;\n",
              "}\n",
              "#T_704b7_row0_col2, #T_704b7_row1_col0, #T_704b7_row1_col1, #T_704b7_row1_col3 {\n",
              "  background-color: #f2f2f2;\n",
              "  color: #000000;\n",
              "}\n",
              "</style>\n",
              "<table id=\"T_704b7_\" class=\"dataframe\">\n",
              "  <thead>\n",
              "    <tr>\n",
              "      <th class=\"index_name level0\" >Title2</th>\n",
              "      <th class=\"col_heading level0 col0\" >Master</th>\n",
              "      <th class=\"col_heading level0 col1\" >Miss</th>\n",
              "      <th class=\"col_heading level0 col2\" >Mr</th>\n",
              "      <th class=\"col_heading level0 col3\" >Mrs</th>\n",
              "    </tr>\n",
              "    <tr>\n",
              "      <th class=\"index_name level0\" >Survived</th>\n",
              "      <th class=\"blank col0\" >&nbsp;</th>\n",
              "      <th class=\"blank col1\" >&nbsp;</th>\n",
              "      <th class=\"blank col2\" >&nbsp;</th>\n",
              "      <th class=\"blank col3\" >&nbsp;</th>\n",
              "    </tr>\n",
              "  </thead>\n",
              "  <tbody>\n",
              "    <tr>\n",
              "      <th id=\"T_704b7_level0_row0\" class=\"row_heading level0 row0\" >0</th>\n",
              "      <td id=\"T_704b7_row0_col0\" class=\"data row0 col0\" >17</td>\n",
              "      <td id=\"T_704b7_row0_col1\" class=\"data row0 col1\" >55</td>\n",
              "      <td id=\"T_704b7_row0_col2\" class=\"data row0 col2\" >451</td>\n",
              "      <td id=\"T_704b7_row0_col3\" class=\"data row0 col3\" >26</td>\n",
              "    </tr>\n",
              "    <tr>\n",
              "      <th id=\"T_704b7_level0_row1\" class=\"row_heading level0 row1\" >1</th>\n",
              "      <td id=\"T_704b7_row1_col0\" class=\"data row1 col0\" >23</td>\n",
              "      <td id=\"T_704b7_row1_col1\" class=\"data row1 col1\" >130</td>\n",
              "      <td id=\"T_704b7_row1_col2\" class=\"data row1 col2\" >87</td>\n",
              "      <td id=\"T_704b7_row1_col3\" class=\"data row1 col3\" >102</td>\n",
              "    </tr>\n",
              "  </tbody>\n",
              "</table>\n"
            ]
          },
          "metadata": {},
          "execution_count": 28
        }
      ],
      "source": [
        "pd.crosstab(df['Title2'],df['Survived']).T.style.background_gradient(cmap='Pastel1')  "
      ]
    },
    {
      "cell_type": "markdown",
      "source": [
        "Ticket組成複雜，將其簡化為純英文代碼，非字母轉換成Ｘ，符號以空白取代。<br>\n",
        "最後提取出31種，並將其以長條圖呈現，明顯看到Ｘ佔大多數<BR>\n"
      ],
      "metadata": {
        "id": "s9iLegWKFCFn"
      }
    },
    {
      "cell_type": "code",
      "execution_count": null,
      "metadata": {
        "id": "NdESzgxPF7zk"
      },
      "outputs": [],
      "source": [
        "df['Ticket_info'] = df['Ticket'].apply(lambda x : x.replace(\".\",\"\").replace(\"/\",\"\").strip().split(' ')[0] if not x.isdigit() else 'X')"
      ]
    },
    {
      "cell_type": "code",
      "execution_count": null,
      "metadata": {
        "id": "Tz0FIAeuF7zl",
        "colab": {
          "base_uri": "https://localhost:8080/"
        },
        "outputId": "318896af-6572-42fa-b1a6-86bd8a7024bd"
      },
      "outputs": [
        {
          "output_type": "stream",
          "name": "stdout",
          "text": [
            "['A5' 'PC' 'STONO2' 'X' 'PP' 'CA' 'SCParis' 'SCA4' 'A4' 'SP' 'SOC' 'WC'\n",
            " 'SOTONOQ' 'WEP' 'STONO' 'C' 'SCPARIS' 'SOP' 'Fa' 'LINE' 'FCC' 'SWPP'\n",
            " 'SCOW' 'PPP' 'SC' 'SCAH' 'AS' 'SOPP' 'FC' 'SOTONO2' 'CASOTON']\n",
            "Ticket info num:  31\n"
          ]
        }
      ],
      "source": [
        "print(df['Ticket_info'].unique())\n",
        "print('Ticket info num: ',len(df['Ticket_info'].unique()))"
      ]
    },
    {
      "cell_type": "code",
      "source": [
        "#df['Ticket_info'].value_counts()\n",
        "a=sns.countplot(df['Ticket_info'], hue=df['Survived'])\n",
        "a.set_xticklabels(a.get_xticklabels(), rotation=90)\n",
        "None #不顯示label"
      ],
      "metadata": {
        "colab": {
          "base_uri": "https://localhost:8080/",
          "height": 320
        },
        "id": "MTOK_rJT3gL7",
        "outputId": "f4ba79e3-5a58-4ce7-9985-20586b4e89f3"
      },
      "execution_count": null,
      "outputs": [
        {
          "output_type": "display_data",
          "data": {
            "text/plain": [
              "<Figure size 432x288 with 1 Axes>"
            ],
            "image/png": "[encoded data removed]"
          },
          "metadata": {
            "needs_background": "light"
          }
        }
      ]
    },
    {
      "cell_type": "markdown",
      "source": [
        "經處理後Ticket大幅簡化，但分佈依然很分散<br>\n",
        "通常票券或艙等之類的編號組成都會有所依據，故假設同樣字母開頭的票為類似區域、類似等級<br>\n",
        "故再將Ticket簡化為單一字母，最終有8種"
      ],
      "metadata": {
        "id": "wdRwhtn9QeWo"
      }
    },
    {
      "cell_type": "code",
      "source": [
        "df['Ticket_info'] = df['Ticket_info'].str.slice(0, 1)\n",
        "print(df['Ticket_info'].unique())\n",
        "print('Ticket num:',len(df['Ticket_info'].unique()))"
      ],
      "metadata": {
        "colab": {
          "base_uri": "https://localhost:8080/"
        },
        "id": "n4Te1zBfIczq",
        "outputId": "d7330468-f3c7-488b-8b52-95f5de140b2b"
      },
      "execution_count": null,
      "outputs": [
        {
          "output_type": "stream",
          "name": "stdout",
          "text": [
            "['A' 'P' 'S' 'X' 'C' 'W' 'F' 'L']\n",
            "Ticket num: 8\n"
          ]
        }
      ]
    },
    {
      "cell_type": "code",
      "execution_count": null,
      "metadata": {
        "id": "Yjmo00-rF7zm",
        "outputId": "347f1a6e-b6fe-48dc-ef69-cb6a2fa473da",
        "colab": {
          "base_uri": "https://localhost:8080/",
          "height": 278
        }
      },
      "outputs": [
        {
          "output_type": "display_data",
          "data": {
            "text/plain": [
              "<Figure size 432x288 with 1 Axes>"
            ],
            "image/png": "[encoded data removed]"
          },
          "metadata": {
            "needs_background": "light"
          }
        }
      ],
      "source": [
        "a=sns.countplot(df['Ticket_info'], hue=df['Survived'])\n",
        "a.set_xticklabels(a.get_xticklabels()) #, rotation=90)\n",
        "None #不顯示label"
      ]
    },
    {
      "cell_type": "markdown",
      "source": [
        "查看Embarked 的分布狀況，並以眾數(S)填補缺失值"
      ],
      "metadata": {
        "id": "waIF6hBt8abJ"
      }
    },
    {
      "cell_type": "code",
      "execution_count": null,
      "metadata": {
        "scrolled": true,
        "id": "DQ-3maaqF7zn",
        "outputId": "42fcebf0-2c5a-4d94-e4a9-67e4a5b40b1b",
        "colab": {
          "base_uri": "https://localhost:8080/"
        }
      },
      "outputs": [
        {
          "output_type": "execute_result",
          "data": {
            "text/plain": [
              "S    644\n",
              "C    168\n",
              "Q     77\n",
              "Name: Embarked, dtype: int64"
            ]
          },
          "metadata": {},
          "execution_count": 34
        }
      ],
      "source": [
        "df['Embarked'].value_counts()"
      ]
    },
    {
      "cell_type": "code",
      "source": [
        "df['Embarked'] = df['Embarked'].fillna(df['Embarked'].mode() )\n",
        "#df['Embarked'].notnull().any()"
      ],
      "metadata": {
        "id": "f6STaOR_7mN2"
      },
      "execution_count": null,
      "outputs": []
    },
    {
      "cell_type": "markdown",
      "source": [
        "以Fare的平均值填補缺失值"
      ],
      "metadata": {
        "id": "ICork2Xg8pEJ"
      }
    },
    {
      "cell_type": "code",
      "execution_count": null,
      "metadata": {
        "id": "YCnuFIhwF7zn"
      },
      "outputs": [],
      "source": [
        "df['Fare'] = df['Fare'].fillna(df['Fare'].mean())"
      ]
    },
    {
      "cell_type": "markdown",
      "source": [
        "Cabin欄位缺失過多，僅有20%左右的資料 (204/891=0.22)，故捨棄該欄位"
      ],
      "metadata": {
        "id": "keiEssFt40_e"
      }
    },
    {
      "cell_type": "code",
      "execution_count": null,
      "metadata": {
        "id": "xYkE_rWzF7zq",
        "outputId": "9e680468-fe87-4f2b-f7c0-834769f8ee68",
        "colab": {
          "base_uri": "https://localhost:8080/"
        }
      },
      "outputs": [
        {
          "output_type": "execute_result",
          "data": {
            "text/plain": [
              "True     687\n",
              "False    204\n",
              "Name: Cabin, dtype: int64"
            ]
          },
          "metadata": {},
          "execution_count": 37
        }
      ],
      "source": [
        "df['Cabin'].isnull().value_counts()"
      ]
    },
    {
      "cell_type": "markdown",
      "source": [
        "將類別變數轉成數值型態，代換到原本的dataframe"
      ],
      "metadata": {
        "id": "fOS7V_HmwUja"
      }
    },
    {
      "cell_type": "code",
      "execution_count": null,
      "metadata": {
        "id": "SI63Rg0_F7zv",
        "outputId": "4059e1d4-58d7-44dc-acad-84e07073bb2f",
        "colab": {
          "base_uri": "https://localhost:8080/",
          "height": 443
        }
      },
      "outputs": [
        {
          "output_type": "execute_result",
          "data": {
            "text/plain": [
              "   PassengerId  Survived  Pclass  \\\n",
              "0            1         0       3   \n",
              "1            2         1       1   \n",
              "2            3         1       3   \n",
              "3            4         1       1   \n",
              "4            5         0       3   \n",
              "\n",
              "                                                Name  Sex   Age  SibSp  Parch  \\\n",
              "0                            Braund, Mr. Owen Harris    1  22.0      1      0   \n",
              "1  Cumings, Mrs. John Bradley (Florence Briggs Th...    0  38.0      1      0   \n",
              "2                             Heikkinen, Miss. Laina    0  26.0      0      0   \n",
              "3       Futrelle, Mrs. Jacques Heath (Lily May Peel)    0  35.0      1      0   \n",
              "4                           Allen, Mr. William Henry    1  35.0      0      0   \n",
              "\n",
              "             Ticket     Fare Cabin  Embarked  Family_Size  Title1  Title2  \\\n",
              "0         A/5 21171   7.2500   NaN         2            1      11       2   \n",
              "1          PC 17599  71.2833   C85         0            1      12       3   \n",
              "2  STON/O2. 3101282   7.9250   NaN         2            0       8       1   \n",
              "3            113803  53.1000  C123         2            1      12       3   \n",
              "4            373450   8.0500   NaN         2            0      11       2   \n",
              "\n",
              "   Ticket_info  \n",
              "0            0  \n",
              "1            4  \n",
              "2            5  \n",
              "3            7  \n",
              "4            7  "
            ],
            "text/html": [
              "\n",
              "  <div id=\"df-f0c63987-456a-43d2-9a82-92b4c0565ee2\">\n",
              "    <div class=\"colab-df-container\">\n",
              "      <div>\n",
              "<style scoped>\n",
              "    .dataframe tbody tr th:only-of-type {\n",
              "        vertical-align: middle;\n",
              "    }\n",
              "\n",
              "    .dataframe tbody tr th {\n",
              "        vertical-align: top;\n",
              "    }\n",
              "\n",
              "    .dataframe thead th {\n",
              "        text-align: right;\n",
              "    }\n",
              "</style>\n",
              "<table border=\"1\" class=\"dataframe\">\n",
              "  <thead>\n",
              "    <tr style=\"text-align: right;\">\n",
              "      <th></th>\n",
              "      <th>PassengerId</th>\n",
              "      <th>Survived</th>\n",
              "      <th>Pclass</th>\n",
              "      <th>Name</th>\n",
              "      <th>Sex</th>\n",
              "      <th>Age</th>\n",
              "      <th>SibSp</th>\n",
              "      <th>Parch</th>\n",
              "      <th>Ticket</th>\n",
              "      <th>Fare</th>\n",
              "      <th>Cabin</th>\n",
              "      <th>Embarked</th>\n",
              "      <th>Family_Size</th>\n",
              "      <th>Title1</th>\n",
              "      <th>Title2</th>\n",
              "      <th>Ticket_info</th>\n",
              "    </tr>\n",
              "  </thead>\n",
              "  <tbody>\n",
              "    <tr>\n",
              "      <th>0</th>\n",
              "      <td>1</td>\n",
              "      <td>0</td>\n",
              "      <td>3</td>\n",
              "      <td>Braund, Mr. Owen Harris</td>\n",
              "      <td>1</td>\n",
              "      <td>22.0</td>\n",
              "      <td>1</td>\n",
              "      <td>0</td>\n",
              "      <td>A/5 21171</td>\n",
              "      <td>7.2500</td>\n",
              "      <td>NaN</td>\n",
              "      <td>2</td>\n",
              "      <td>1</td>\n",
              "      <td>11</td>\n",
              "      <td>2</td>\n",
              "      <td>0</td>\n",
              "    </tr>\n",
              "    <tr>\n",
              "      <th>1</th>\n",
              "      <td>2</td>\n",
              "      <td>1</td>\n",
              "      <td>1</td>\n",
              "      <td>Cumings, Mrs. John Bradley (Florence Briggs Th...</td>\n",
              "      <td>0</td>\n",
              "      <td>38.0</td>\n",
              "      <td>1</td>\n",
              "      <td>0</td>\n",
              "      <td>PC 17599</td>\n",
              "      <td>71.2833</td>\n",
              "      <td>C85</td>\n",
              "      <td>0</td>\n",
              "      <td>1</td>\n",
              "      <td>12</td>\n",
              "      <td>3</td>\n",
              "      <td>4</td>\n",
              "    </tr>\n",
              "    <tr>\n",
              "      <th>2</th>\n",
              "      <td>3</td>\n",
              "      <td>1</td>\n",
              "      <td>3</td>\n",
              "      <td>Heikkinen, Miss. Laina</td>\n",
              "      <td>0</td>\n",
              "      <td>26.0</td>\n",
              "      <td>0</td>\n",
              "      <td>0</td>\n",
              "      <td>STON/O2. 3101282</td>\n",
              "      <td>7.9250</td>\n",
              "      <td>NaN</td>\n",
              "      <td>2</td>\n",
              "      <td>0</td>\n",
              "      <td>8</td>\n",
              "      <td>1</td>\n",
              "      <td>5</td>\n",
              "    </tr>\n",
              "    <tr>\n",
              "      <th>3</th>\n",
              "      <td>4</td>\n",
              "      <td>1</td>\n",
              "      <td>1</td>\n",
              "      <td>Futrelle, Mrs. Jacques Heath (Lily May Peel)</td>\n",
              "      <td>0</td>\n",
              "      <td>35.0</td>\n",
              "      <td>1</td>\n",
              "      <td>0</td>\n",
              "      <td>113803</td>\n",
              "      <td>53.1000</td>\n",
              "      <td>C123</td>\n",
              "      <td>2</td>\n",
              "      <td>1</td>\n",
              "      <td>12</td>\n",
              "      <td>3</td>\n",
              "      <td>7</td>\n",
              "    </tr>\n",
              "    <tr>\n",
              "      <th>4</th>\n",
              "      <td>5</td>\n",
              "      <td>0</td>\n",
              "      <td>3</td>\n",
              "      <td>Allen, Mr. William Henry</td>\n",
              "      <td>1</td>\n",
              "      <td>35.0</td>\n",
              "      <td>0</td>\n",
              "      <td>0</td>\n",
              "      <td>373450</td>\n",
              "      <td>8.0500</td>\n",
              "      <td>NaN</td>\n",
              "      <td>2</td>\n",
              "      <td>0</td>\n",
              "      <td>11</td>\n",
              "      <td>2</td>\n",
              "      <td>7</td>\n",
              "    </tr>\n",
              "  </tbody>\n",
              "</table>\n",
              "</div>\n",
              "      <button class=\"colab-df-convert\" onclick=\"convertToInteractive('df-f0c63987-456a-43d2-9a82-92b4c0565ee2')\"\n",
              "              title=\"Convert this dataframe to an interactive table.\"\n",
              "              style=\"display:none;\">\n",
              "        \n",
              "  <svg xmlns=\"http://www.w3.org/2000/svg\" height=\"24px\"viewBox=\"0 0 24 24\"\n",
              "       width=\"24px\">\n",
              "    <path d=\"M0 0h24v24H0V0z\" fill=\"none\"/>\n",
              "    <path d=\"M18.56 5.44l.94 2.06.94-2.06 2.06-.94-2.06-.94-.94-2.06-.94 2.06-2.06.94zm-11 1L8.5 8.5l.94-2.06 2.06-.94-2.06-.94L8.5 2.5l-.94 2.06-2.06.94zm10 10l.94 2.06.94-2.06 2.06-.94-2.06-.94-.94-2.06-.94 2.06-2.06.94z\"/><path d=\"M17.41 7.96l-1.37-1.37c-.4-.4-.92-.59-1.43-.59-.52 0-1.04.2-1.43.59L10.3 9.45l-7.72 7.72c-.78.78-.78 2.05 0 2.83L4 21.41c.39.39.9.59 1.41.59.51 0 1.02-.2 1.41-.59l7.78-7.78 2.81-2.81c.8-.78.8-2.07 0-2.86zM5.41 20L4 18.59l7.72-7.72 1.47 1.35L5.41 20z\"/>\n",
              "  </svg>\n",
              "      </button>\n",
              "      \n",
              "  <style>\n",
              "    .colab-df-container {\n",
              "      display:flex;\n",
              "      flex-wrap:wrap;\n",
              "      gap: 12px;\n",
              "    }\n",
              "\n",
              "    .colab-df-convert {\n",
              "      background-color: #E8F0FE;\n",
              "      border: none;\n",
              "      border-radius: 50%;\n",
              "      cursor: pointer;\n",
              "      display: none;\n",
              "      fill: #1967D2;\n",
              "      height: 32px;\n",
              "      padding: 0 0 0 0;\n",
              "      width: 32px;\n",
              "    }\n",
              "\n",
              "    .colab-df-convert:hover {\n",
              "      background-color: #E2EBFA;\n",
              "      box-shadow: 0px 1px 2px rgba(60, 64, 67, 0.3), 0px 1px 3px 1px rgba(60, 64, 67, 0.15);\n",
              "      fill: #174EA6;\n",
              "    }\n",
              "\n",
              "    [theme=dark] .colab-df-convert {\n",
              "      background-color: #3B4455;\n",
              "      fill: #D2E3FC;\n",
              "    }\n",
              "\n",
              "    [theme=dark] .colab-df-convert:hover {\n",
              "      background-color: #434B5C;\n",
              "      box-shadow: 0px 1px 3px 1px rgba(0, 0, 0, 0.15);\n",
              "      filter: drop-shadow(0px 1px 2px rgba(0, 0, 0, 0.3));\n",
              "      fill: #FFFFFF;\n",
              "    }\n",
              "  </style>\n",
              "\n",
              "      <script>\n",
              "        const buttonEl =\n",
              "          document.querySelector('#df-f0c63987-456a-43d2-9a82-92b4c0565ee2 button.colab-df-convert');\n",
              "        buttonEl.style.display =\n",
              "          google.colab.kernel.accessAllowed ? 'block' : 'none';\n",
              "\n",
              "        async function convertToInteractive(key) {\n",
              "          const element = document.querySelector('#df-f0c63987-456a-43d2-9a82-92b4c0565ee2');\n",
              "          const dataTable =\n",
              "            await google.colab.kernel.invokeFunction('convertToInteractive',\n",
              "                                                     [key], {});\n",
              "          if (!dataTable) return;\n",
              "\n",
              "          const docLinkHtml = 'Like what you see? Visit the ' +\n",
              "            '<a target=\"_blank\" href=https://colab.research.google.com/notebooks/data_table.ipynb>data table notebook</a>'\n",
              "            + ' to learn more about interactive tables.';\n",
              "          element.innerHTML = '';\n",
              "          dataTable['output_type'] = 'display_data';\n",
              "          await google.colab.output.renderOutput(dataTable, element);\n",
              "          const docLink = document.createElement('div');\n",
              "          docLink.innerHTML = docLinkHtml;\n",
              "          element.appendChild(docLink);\n",
              "        }\n",
              "      </script>\n",
              "    </div>\n",
              "  </div>\n",
              "  "
            ]
          },
          "metadata": {},
          "execution_count": 38
        }
      ],
      "source": [
        "df['Sex'] = df['Sex'].astype('category').cat.codes\n",
        "df['Embarked'] = df['Embarked'].astype('category').cat.codes\n",
        "df['Title1'] = df['Title1'].astype('category').cat.codes\n",
        "df['Title2'] = df['Title2'].astype('category').cat.codes\n",
        "df['Ticket_info'] = df['Ticket_info'].astype('category').cat.codes\n",
        "df.head(5)"
      ]
    },
    {
      "cell_type": "markdown",
      "source": [
        "利用RandomForsestRegressor做年齡推估，處理空缺值<br>\n",
        "將Fare & Family_size的離群值剔除，並用'Embarked', 'Fare', 'Pclass', 'Sex', 'Family_Size', 'Title1','Ticket_info'等欄位去推估Age"
      ],
      "metadata": {
        "id": "1VenNpsB5dXs"
      }
    },
    {
      "cell_type": "code",
      "execution_count": null,
      "metadata": {
        "id": "2y26a-sHF7zv"
      },
      "outputs": [],
      "source": [
        "dataAgeNull = df[df[\"Age\"].isnull()]\n",
        "dataAgeNotNull = df[df[\"Age\"].notnull()]\n",
        "remove_outlier = dataAgeNotNull[(np.abs(dataAgeNotNull[\"Fare\"]-dataAgeNotNull[\"Fare\"].mean())>(4*dataAgeNotNull[\"Fare\"].std())) |\n",
        "                      (np.abs(dataAgeNotNull[\"Family_Size\"]-dataAgeNotNull[\"Family_Size\"].mean())>(4*dataAgeNotNull[\"Family_Size\"].std()))                     \n",
        "                     ]\n",
        "rfr_age = RandomForestRegressor(n_estimators=500,random_state=123)\n",
        "ageColumns = ['Embarked', 'Fare', 'Pclass', 'Sex', 'Family_Size', 'Title1','Ticket_info']\n",
        "rfr_age.fit(remove_outlier[ageColumns], remove_outlier[\"Age\"])\n",
        "\n",
        "ageNullValues = rfr_age.predict(X= dataAgeNull[ageColumns])\n",
        "dataAgeNull.loc[:,\"Age\"] = ageNullValues\n",
        "data = dataAgeNull.append(dataAgeNotNull)\n",
        "data.reset_index(inplace=True, drop=True)"
      ]
    },
    {
      "cell_type": "markdown",
      "source": [
        "確認Cabin以外的所有欄位處理完成，都無缺失值"
      ],
      "metadata": {
        "id": "QDbhS9Rb8-5X"
      }
    },
    {
      "cell_type": "code",
      "execution_count": null,
      "metadata": {
        "id": "-IZdv9WfF7zx",
        "outputId": "49ba65b2-5292-4a91-8ced-990d542c1cc0",
        "colab": {
          "base_uri": "https://localhost:8080/"
        }
      },
      "outputs": [
        {
          "output_type": "stream",
          "name": "stdout",
          "text": [
            "<class 'pandas.core.frame.DataFrame'>\n",
            "RangeIndex: 891 entries, 0 to 890\n",
            "Data columns (total 16 columns):\n",
            " #   Column       Non-Null Count  Dtype  \n",
            "---  ------       --------------  -----  \n",
            " 0   PassengerId  891 non-null    int64  \n",
            " 1   Survived     891 non-null    int64  \n",
            " 2   Pclass       891 non-null    int64  \n",
            " 3   Name         891 non-null    object \n",
            " 4   Sex          891 non-null    int8   \n",
            " 5   Age          891 non-null    float64\n",
            " 6   SibSp        891 non-null    int64  \n",
            " 7   Parch        891 non-null    int64  \n",
            " 8   Ticket       891 non-null    object \n",
            " 9   Fare         891 non-null    float64\n",
            " 10  Cabin        204 non-null    object \n",
            " 11  Embarked     891 non-null    int8   \n",
            " 12  Family_Size  891 non-null    int64  \n",
            " 13  Title1       891 non-null    int8   \n",
            " 14  Title2       891 non-null    int8   \n",
            " 15  Ticket_info  891 non-null    int8   \n",
            "dtypes: float64(2), int64(6), int8(5), object(3)\n",
            "memory usage: 81.0+ KB\n"
          ]
        }
      ],
      "source": [
        "data.info()"
      ]
    },
    {
      "cell_type": "code",
      "execution_count": null,
      "metadata": {
        "id": "BrpeYZ4PF7zy"
      },
      "outputs": [],
      "source": [
        "from sklearn.model_selection import train_test_split\n",
        "from sklearn.metrics import plot_confusion_matrix, classification_report"
      ]
    },
    {
      "cell_type": "markdown",
      "source": [
        "切資料，Name、Ticket、Title1處理後已產生新欄位故剔除，而Cabin則因缺失過多、填補沒意義故也剔除"
      ],
      "metadata": {
        "id": "pDvYWJpO9KFE"
      }
    },
    {
      "cell_type": "code",
      "execution_count": null,
      "metadata": {
        "id": "LupLpUMjF7zy"
      },
      "outputs": [],
      "source": [
        "X = data.drop(['PassengerId','Survived', 'Name','Ticket','Title1','Cabin'], axis =1)\n",
        "y = data['Survived']"
      ]
    },
    {
      "cell_type": "markdown",
      "source": [
        "以SMOTE處理類別平衡，將倖存與死亡之比例拉到接近接近1:1"
      ],
      "metadata": {
        "id": "K-ItST11SJAW"
      }
    },
    {
      "cell_type": "code",
      "source": [
        "from imblearn.over_sampling import SMOTE\n",
        "\n",
        "sm = SMOTE(random_state=123)\n",
        "X_res, y_res = sm.fit_resample(X, y)"
      ],
      "metadata": {
        "id": "oWATQq-_9uA8"
      },
      "execution_count": null,
      "outputs": []
    },
    {
      "cell_type": "code",
      "source": [
        "X_train, X_test, y_train, y_test = train_test_split(X_res, y_res, test_size=0.2, random_state=123)"
      ],
      "metadata": {
        "id": "H5MpHaOLVl3A"
      },
      "execution_count": null,
      "outputs": []
    },
    {
      "cell_type": "code",
      "execution_count": null,
      "metadata": {
        "id": "NxLfxctcF7zz",
        "outputId": "f4471383-6391-4490-85e0-253e6dc65e3d",
        "colab": {
          "base_uri": "https://localhost:8080/"
        }
      },
      "outputs": [
        {
          "output_type": "stream",
          "name": "stdout",
          "text": [
            "RandomForestClassifier \n",
            "               precision    recall  f1-score   support\n",
            "\n",
            "           0       0.91      0.90      0.90       117\n",
            "           1       0.88      0.89      0.89       103\n",
            "\n",
            "    accuracy                           0.90       220\n",
            "   macro avg       0.89      0.90      0.90       220\n",
            "weighted avg       0.90      0.90      0.90       220\n",
            "\n"
          ]
        }
      ],
      "source": [
        "\n",
        "rf = RandomForestClassifier(criterion='gini', \n",
        "                             n_estimators=100,\n",
        "                             min_samples_split=5,\n",
        "                             min_samples_leaf=3,\n",
        "                             n_jobs=-1) \n",
        "\n",
        "rf.fit(X_train, y_train)\n",
        "y_pred = rf.predict(X_test)\n",
        "\n",
        "print ('RandomForestClassifier','\\n',classification_report(y_pred,y_test))"
      ]
    },
    {
      "cell_type": "code",
      "source": [
        "plot_confusion_matrix(rf, X_test, y_test, cmap= 'RdPu')  \n",
        "plt.show()"
      ],
      "metadata": {
        "id": "aMuHtK3F9Fl5",
        "colab": {
          "base_uri": "https://localhost:8080/",
          "height": 277
        },
        "outputId": "59f55fcf-8bc4-485d-9121-87c0f022d359"
      },
      "execution_count": null,
      "outputs": [
        {
          "output_type": "display_data",
          "data": {
            "text/plain": [
              "<Figure size 432x288 with 2 Axes>"
            ],
            "image/png": "[encoded data removed]"
          },
          "metadata": {
            "needs_background": "light"
          }
        }
      ]
    },
    {
      "cell_type": "markdown",
      "source": [
        "最終隨機森林之預測準確高達90%，再以Cinfusion Matrix來看，誤判（淺色區塊）的比例不高"
      ],
      "metadata": {
        "id": "5rbn5eNSWwO6"
      }
    },
    {
      "cell_type": "code",
      "source": [
        "#pip install shap"
      ],
      "metadata": {
        "id": "69Jb5iTDe6mu"
      },
      "execution_count": null,
      "outputs": []
    },
    {
      "cell_type": "markdown",
      "source": [
        "將各個欄位的影響力以視覺化呈現，可以看到性別、艙等、稱謂、票價的影響力顯然較高，其中又以性別影響最大\n",
        "\n",
        "可以推測：海難發生時婦孺優先逃離，而較高級的艙等、較貴的票可能具備較好的逃生條件，故生還率較高"
      ],
      "metadata": {
        "id": "GEIpkcSFESYw"
      }
    },
    {
      "cell_type": "code",
      "source": [
        "import shap\n",
        "\n",
        "explainer = shap.TreeExplainer(rf)\n",
        "shap_values = explainer.shap_values(X_test)\n",
        "\n",
        "shap.summary_plot(shap_values, X_test, plot_type=\"bar\")"
      ],
      "metadata": {
        "id": "UdE6ZiwAICL2",
        "colab": {
          "base_uri": "https://localhost:8080/",
          "height": 362
        },
        "outputId": "bdea984b-b781-4fa1-c833-d74935ccc929"
      },
      "execution_count": null,
      "outputs": [
        {
          "output_type": "display_data",
          "data": {
            "text/plain": [
              "<Figure size 576x396 with 1 Axes>"
            ],
            "image/png": "[encoded data removed]"
          },
          "metadata": {
            "needs_background": "light"
          }
        }
      ]
    }
  ],
  "metadata": {
    "kernelspec": {
      "display_name": "Python 3",
      "language": "python",
      "name": "python3"
    },
    "language_info": {
      "codemirror_mode": {
        "name": "ipython",
        "version": 3
      },
      "file_extension": ".py",
      "mimetype": "text/x-python",
      "name": "python",
      "nbconvert_exporter": "python",
      "pygments_lexer": "ipython3",
      "version": "3.8.3"
    },
    "colab": {
      "name": "Titanic",
      "provenance": [],
      "collapsed_sections": []
    }
  },
  "nbformat": 4,
  "nbformat_minor": 0
}